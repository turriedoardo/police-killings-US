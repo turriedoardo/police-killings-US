{
 "cells": [
  {
   "cell_type": "markdown",
   "metadata": {
    "toc": true
   },
   "source": [
    "<h1>Table of Contents<span class=\"tocSkip\"></span></h1>\n",
    "<div class=\"toc\"><ul class=\"toc-item\"><li><span><a href=\"#Introduzione-e-obbiettivi-dell'analisi\" data-toc-modified-id=\"Introduzione-e-obbiettivi-dell'analisi-1\"><span class=\"toc-item-num\">1&nbsp;&nbsp;</span>Introduzione e obbiettivi dell'analisi</a></span></li><li><span><a href=\"#Manipolazione-dei-dati\" data-toc-modified-id=\"Manipolazione-dei-dati-2\"><span class=\"toc-item-num\">2&nbsp;&nbsp;</span>Manipolazione dei dati</a></span></li><li><span><a href=\"#Pulizia-dei-dati\" data-toc-modified-id=\"Pulizia-dei-dati-3\"><span class=\"toc-item-num\">3&nbsp;&nbsp;</span>Pulizia dei dati</a></span><ul class=\"toc-item\"><li><span><a href=\"#Uccisioni-della-polizia\" data-toc-modified-id=\"Uccisioni-della-polizia-3.1\"><span class=\"toc-item-num\">3.1&nbsp;&nbsp;</span>Uccisioni della polizia</a></span></li><li><span><a href=\"#Popolazione\" data-toc-modified-id=\"Popolazione-3.2\"><span class=\"toc-item-num\">3.2&nbsp;&nbsp;</span>Popolazione</a></span></li><li><span><a href=\"#Composizione-razziale\" data-toc-modified-id=\"Composizione-razziale-3.3\"><span class=\"toc-item-num\">3.3&nbsp;&nbsp;</span>Composizione razziale</a></span></li><li><span><a href=\"#Reddito\" data-toc-modified-id=\"Reddito-3.4\"><span class=\"toc-item-num\">3.4&nbsp;&nbsp;</span>Reddito</a></span></li><li><span><a href=\"#Livello-di-povertà\" data-toc-modified-id=\"Livello-di-povertà-3.5\"><span class=\"toc-item-num\">3.5&nbsp;&nbsp;</span>Livello di povertà</a></span></li><li><span><a href=\"#Livello-di-istruzione\" data-toc-modified-id=\"Livello-di-istruzione-3.6\"><span class=\"toc-item-num\">3.6&nbsp;&nbsp;</span>Livello di istruzione</a></span></li></ul></li><li><span><a href=\"#Maggior-numero-di-vittime\" data-toc-modified-id=\"Maggior-numero-di-vittime-4\"><span class=\"toc-item-num\">4&nbsp;&nbsp;</span>Maggior numero di vittime</a></span></li><li><span><a href=\"#Analisi-generale-razzismo\" data-toc-modified-id=\"Analisi-generale-razzismo-5\"><span class=\"toc-item-num\">5&nbsp;&nbsp;</span>Analisi generale razzismo</a></span></li><li><span><a href=\"#BlackLivesMatter\" data-toc-modified-id=\"BlackLivesMatter-6\"><span class=\"toc-item-num\">6&nbsp;&nbsp;</span>BlackLivesMatter</a></span></li><li><span><a href=\"#Altre-variabili-\" data-toc-modified-id=\"Altre-variabili--7\"><span class=\"toc-item-num\">7&nbsp;&nbsp;</span>Altre variabili </a></span></li><li><span><a href=\"#Correlazione-con-reddito,-livello-di-povertà-e-educazione\" data-toc-modified-id=\"Correlazione-con-reddito,-livello-di-povertà-e-educazione-8\"><span class=\"toc-item-num\">8&nbsp;&nbsp;</span>Correlazione con reddito, livello di povertà e educazione</a></span></li><li><span><a href=\"#Analisi-temporale\" data-toc-modified-id=\"Analisi-temporale-9\"><span class=\"toc-item-num\">9&nbsp;&nbsp;</span>Analisi temporale</a></span></li><li><span><a href=\"#Conclusioni\" data-toc-modified-id=\"Conclusioni-10\"><span class=\"toc-item-num\">10&nbsp;&nbsp;</span>Conclusioni</a></span></li></ul></div>"
   ]
  },
  {
   "cell_type": "markdown",
   "metadata": {},
   "source": [
    "Introduzione e obbiettivi dell'analisi\n",
    "===\n",
    "Il tema delle uccisioni da parte degli ufficiali di polizia sta diventando sempre più attuale, soprattutto negli USA, dove di recente ha portato a grosse sollevazioni e moti di protesta contro un presunti (e non) uso eccessivo della violenza.\n",
    "\n",
    "La prima parte di questa analisi approfondirà questo argomento, analizzando il fenomeno sia da un punto di vista generale, sia spostando il focus sui singoli stati, per capire se in alcuni di essi esista una maggiore tendenza a fenomeni di questo tipo.\n",
    "\n",
    "Un altro aspetto rilevante riguarda il fatto che, sempre secondo una parte dell'opinione pubblica, la comunità afroamericana sia subisca maggiormente questo tipo di violenze: da qui la nascita di organizzazioni ad hoc, tra le quali la più celebre 'BlackLivesMatter'. Per questo motivo la seconda parte del report verterà sull'analisi di questa teoria, per valutare se trova effettivamente riscontro all'interno dei dati.\n",
    "\n",
    "Infine, nell'ultima parte, verranno presi in considerazione ulteriori fattori che potrebbero essere legati al numero di vittime delle autorità, come ad esempio il genere, l'età, il tipo di arma utilizzato e la presenza o meno di segni di malattie mentali."
   ]
  },
  {
   "cell_type": "code",
   "execution_count": 2,
   "metadata": {
    "_cell_guid": "5359df82-c585-41d5-8887-af214306ef1a",
    "_uuid": "a3143fde-d289-4976-9bec-a1153c3cf66b",
    "hide_input": false,
    "jupyter": {
     "outputs_hidden": false
    }
   },
   "outputs": [],
   "source": [
    "# importo le librerie\n",
    "import pandas as pd\n",
    "import matplotlib.pyplot as plt\n",
    "import seaborn as sns\n",
    "import numpy as np\n",
    "import warnings\n",
    "from sklearn.preprocessing import minmax_scale\n",
    "import plotly.express as px\n",
    "import os\n",
    "\n",
    "# imposto grandezza grafici e righe dataframe\n",
    "plt.rcParams['figure.figsize'] = (15, 6)\n",
    "pd.set_option('display.max_rows', 10)"
   ]
  },
  {
   "cell_type": "code",
   "execution_count": 3,
   "metadata": {
    "_cell_guid": "bbac8a13-226f-4bae-a5e0-de0a13405d4b",
    "_uuid": "27734c28-4a3d-427b-94c0-3ac5634edb7a",
    "jupyter": {
     "outputs_hidden": false
    }
   },
   "outputs": [],
   "source": [
    "# carico i dataset\n",
    "kills = pd.read_csv('data/police_killings_aggiornato.csv')\n",
    "pop = pd.read_csv('data/PopulationByCity.csv')\n",
    "races = pd.read_csv('data/ShareRaceByCity.csv')\n",
    "incomes = pd.read_csv('data/MedianHouseholdIncome2015.csv',\n",
    "                      encoding='unicode_escape')\n",
    "poverty_level = pd.read_csv('data/PercentagePeopleBelowPovertyLevel.csv',\n",
    "                            encoding='unicode_escape')  # non presenta valori mancanti\n",
    "education = pd.read_csv('data/PercentOver25CompletedHighSchool.csv',\n",
    "                        encoding='unicode_escape')  # non presenta valori mancanti"
   ]
  },
  {
   "cell_type": "markdown",
   "metadata": {},
   "source": [
    "Pulizia dei dati\n",
    "===\n",
    "Spesso le fonti di dati utilizzate per le analisi presentano valori mancanti. In base alla collocazione e alla quantità, nel seguito verrà valutato come gestirli. Inoltre, gli elementi delle variabili di ogni dataset verranno convertiti nel tipo di dato più adatto.  \n",
    "Infine, sul dataframe \"races\" verranno applicate alcune tecniche di data manipulation per rimuovere dagli elementi della colonna \"city\" alcuni termini ridondanti.  \n",
    "La maggior parte dei dataframes utilizzati ai fini di questa analisi sono stati forniti da Kaggle. [Al dataset in questione](https://www.kaggle.com/kwullum/fatal-police-shootings-in-the-us) è stata integrata la versione aggiornata del dataframe costruito dal Washington Post, ed è stato corredato da un ulteriore dataframe (\"pop\"), contenente le popolazioni delle maggiori città statunitensi."
   ]
  },
  {
   "cell_type": "markdown",
   "metadata": {},
   "source": [
    "Uccisioni della polizia\n",
    "---\n",
    "Il seguente dataframe è a sua volta tratto dal sito del Washington Post, il quale redige un elenco aggiornato di tutte le morti violente ad opera degli ufficiali di polizia dal gennaio del 2015. Ogni caso risulta provvisto di informazioni come il genere, l'età e l'etnia della vittima, oltre al modo in cui è stata uccisa, se stesse aggredendo gli ufficiali e numerosi altri dettagli."
   ]
  },
  {
   "cell_type": "code",
   "execution_count": 5,
   "metadata": {},
   "outputs": [
    {
     "data": {
      "text/plain": [
       "name         4.06%\n",
       "armed        3.14%\n",
       "age          4.71%\n",
       "gender       0.06%\n",
       "race         11.3%\n",
       "flee         7.38%\n",
       "longitude    4.77%\n",
       "latitude     4.77%\n",
       "dtype: object"
      ]
     },
     "execution_count": 5,
     "metadata": {},
     "output_type": "execute_result"
    }
   ],
   "source": [
    "# mostro tutte le righe\n",
    "pd.set_option('display.max_rows', None)\n",
    "\n",
    "# percentuale di missing values in ogni colonna sul totale\n",
    "round(kills.isna().sum()[kills.isna().sum() > 0] /\n",
    "      kills.shape[0] * 100, 2).astype(str) + '%'\n",
    "# le colonne non riportate non presentano Nan"
   ]
  },
  {
   "cell_type": "code",
   "execution_count": 6,
   "metadata": {},
   "outputs": [
    {
     "data": {
      "text/plain": [
       "0"
      ]
     },
     "execution_count": 6,
     "metadata": {},
     "output_type": "execute_result"
    }
   ],
   "source": [
    "# rimpiazzo i valori mancanti\n",
    "kills.fillna(value=dict(name='Unknown', armed='unknown', age=kills.age.median(\n",
    "), race='unknown', flee='unknown', gender='unknown'), inplace=True)\n",
    "\n",
    "# elimino righe senza latitudine e longitudine, in quanto i valori sono difficilmente rimpiazzabili e costituiscono meno del 5% degli esempi nel dataset\n",
    "kills.dropna(subset=['latitude', 'longitude'], inplace=True)\n",
    "\n",
    "# controllo assenza missing values\n",
    "kills.isna().sum().sum()"
   ]
  },
  {
   "cell_type": "code",
   "execution_count": 7,
   "metadata": {},
   "outputs": [
    {
     "name": "stdout",
     "output_type": "stream",
     "text": [
      "id int64 6269\n",
      "name object 6005\n",
      "date object 2245\n",
      "manner_of_death object 2\n",
      "armed object 96\n",
      "age float64 78\n",
      "gender object 3\n",
      "race object 7\n",
      "city object 2702\n",
      "state object 51\n",
      "signs_of_mental_illness bool 2\n",
      "threat_level object 3\n",
      "flee object 5\n",
      "body_camera bool 2\n",
      "longitude float64 5530\n",
      "latitude float64 4933\n",
      "is_geocoding_exact bool 2\n"
     ]
    }
   ],
   "source": [
    "# creo una funzione per mostrare le info necessarie delle colonne\n",
    "def data_info(data):\n",
    "    for column in data.columns:\n",
    "        print(column, data[column].dtype.name, len(data[column].unique()))\n",
    "\n",
    "\n",
    "# la applico al data frame kills\n",
    "data_info(kills)"
   ]
  },
  {
   "cell_type": "code",
   "execution_count": 8,
   "metadata": {},
   "outputs": [
    {
     "data": {
      "text/plain": [
       "id                                  int64\n",
       "name                               object\n",
       "date                       datetime64[ns]\n",
       "manner_of_death                  category\n",
       "armed                            category\n",
       "age                               float64\n",
       "gender                           category\n",
       "race                             category\n",
       "city                               object\n",
       "state                            category\n",
       "signs_of_mental_illness              bool\n",
       "threat_level                     category\n",
       "flee                             category\n",
       "body_camera                          bool\n",
       "longitude                         float64\n",
       "latitude                          float64\n",
       "is_geocoding_exact                   bool\n",
       "dtype: object"
      ]
     },
     "execution_count": 8,
     "metadata": {},
     "output_type": "execute_result"
    }
   ],
   "source": [
    "# lista colonne da convertire\n",
    "col_to_conv = ['manner_of_death', 'armed', 'gender',\n",
    "               'race', 'state', 'threat_level', 'flee']\n",
    "\n",
    "# itero sulle colonne\n",
    "for column in col_to_conv:\n",
    "    # converto il dtype delle colonne\n",
    "    kills[column] = kills[column].astype('category')\n",
    "\n",
    "# converto le date in datetime objects\n",
    "kills.date = pd.to_datetime(\n",
    "    kills.date, infer_datetime_format=True, errors='coerce')\n",
    "\n",
    "# unisco valori simili\n",
    "kills.armed.replace(\n",
    "    {'undetermined': 'unknown', 'unknown weapon': 'unknown'}, inplace=True)\n",
    "\n",
    "# stampo i nuovi tipi di colonne\n",
    "kills.dtypes"
   ]
  },
  {
   "cell_type": "code",
   "execution_count": 9,
   "metadata": {},
   "outputs": [
    {
     "data": {
      "image/png": "[encoded data removed]",
      "text/plain": [
       "<Figure size 1080x432 with 2 Axes>"
      ]
     },
     "metadata": {
      "needs_background": "light"
     },
     "output_type": "display_data"
    }
   ],
   "source": [
    "# creo una heatmap per mostrare la correlazione\n",
    "sns.heatmap(data = kills.corr(), cmap = 'inferno')\n",
    "\n",
    "# aggiungo un titolo\n",
    "plt.title('Correlazione tra fattori numerici delle uccisioni', size = 18)\n",
    "\n",
    "plt.show()"
   ]
  },
  {
   "cell_type": "markdown",
   "metadata": {},
   "source": [
    "Popolazione\n",
    "---\n",
    "Questo dataset registra la popolazione delle maggiori città americane, assieme alle loro coordinate geografiche e lo stato di appartenenza.  \n",
    "Nel seguito, essendo le coordinate mancanti per molte città, si è scelto di mantenere le righe sprovviste di latitudine e longitudine per non incrementare ulteriormente la perdita di informazione."
   ]
  },
  {
   "cell_type": "code",
   "execution_count": 10,
   "metadata": {},
   "outputs": [
    {
     "data": {
      "text/plain": [
       "lat    21.33%\n",
       "lng    21.33%\n",
       "dtype: object"
      ]
     },
     "execution_count": 10,
     "metadata": {},
     "output_type": "execute_result"
    }
   ],
   "source": [
    "# percentuale di missing values in ogni colonna sul totale\n",
    "round(pop.isna().sum()[pop.isna().sum() > 0] /\n",
    "      pop.shape[0] * 100, 2).astype(str) + '%'\n",
    "# le colonne non riportate non presentano Nan"
   ]
  },
  {
   "cell_type": "code",
   "execution_count": 11,
   "metadata": {},
   "outputs": [],
   "source": [
    "# in questo caso le righe con dati mancanti verranno mantenute, in quanto possono essere utili per la EDA, cosituendo più del 20% dei dati totali. "
   ]
  },
  {
   "cell_type": "code",
   "execution_count": 12,
   "metadata": {},
   "outputs": [
    {
     "name": "stdout",
     "output_type": "stream",
     "text": [
      "city object 2505\n",
      "state object 51\n",
      "population float64 2262\n",
      "lat float64 2215\n",
      "lng float64 2218\n"
     ]
    }
   ],
   "source": [
    "# dtypes e valori unici\n",
    "data_info(pop)"
   ]
  },
  {
   "cell_type": "code",
   "execution_count": 13,
   "metadata": {},
   "outputs": [
    {
     "data": {
      "text/plain": [
       "city            object\n",
       "state         category\n",
       "population       int32\n",
       "lat            float64\n",
       "lng            float64\n",
       "dtype: object"
      ]
     },
     "execution_count": 13,
     "metadata": {},
     "output_type": "execute_result"
    }
   ],
   "source": [
    "# converto 'state' in categorica\n",
    "pop.state = pop.state.astype('category')\n",
    "\n",
    "# converto population in int\n",
    "pop.population = round(pop.population).astype(int)\n",
    "\n",
    "# stampo i dtypes delle series\n",
    "pop.dtypes"
   ]
  },
  {
   "cell_type": "markdown",
   "metadata": {},
   "source": [
    "Composizione razziale\n",
    "---\n",
    "Il dataset \"races\" contiene la quota di popolazione bianca, asiatica, nera, ispanica e nativa per ognuna delle città presenti."
   ]
  },
  {
   "cell_type": "code",
   "execution_count": 14,
   "metadata": {
    "_cell_guid": "38dfb12a-a6c8-4451-baf1-5775ac32a56a",
    "_uuid": "142bb297-66c8-46c6-ba81-9c508c50d36a",
    "jupyter": {
     "outputs_hidden": false
    }
   },
   "outputs": [],
   "source": [
    "# lista dei termini da eliminare dai nomi delle città\n",
    "stopwords = [' town', ' city', ' CDP', ' village']\n",
    "\n",
    "# creo una funzione per eliminare le stopwords\n",
    "def name_cleaner(city):\n",
    "    for word in stopwords:\n",
    "        if word in city:\n",
    "            city = city.replace(word, '')\n",
    "    return city\n",
    "\n",
    "\n",
    "# applico la funzione alla colonna 'City'\n",
    "races['city'] = races.City.apply(lambda city: name_cleaner(city))\n",
    "\n",
    "# elimino la vecchia colonna\n",
    "races.drop(columns='City', inplace=True)\n",
    "\n",
    "# rinomino la colonna 'Geographic area' come 'state'\n",
    "races = races.rename(columns={'Geographic area': 'state'})"
   ]
  },
  {
   "cell_type": "code",
   "execution_count": 15,
   "metadata": {},
   "outputs": [
    {
     "data": {
      "text/plain": [
       "Series([], dtype: object)"
      ]
     },
     "execution_count": 15,
     "metadata": {},
     "output_type": "execute_result"
    }
   ],
   "source": [
    "# percentuale di missing values in ogni colonna sul totale\n",
    "round(races.isna().sum()[races.isna().sum() > 0]/races.shape[0] * 100, 2).astype(str) + '%'\n",
    "# le colonne non riportate non presentano Nan"
   ]
  },
  {
   "cell_type": "code",
   "execution_count": 16,
   "metadata": {},
   "outputs": [
    {
     "name": "stdout",
     "output_type": "stream",
     "text": [
      "state object 51\n",
      "share_white object 997\n",
      "share_black object 926\n",
      "share_native_american object 628\n",
      "share_asian object 409\n",
      "share_hispanic object 956\n",
      "city object 19940\n"
     ]
    }
   ],
   "source": [
    "# stampo info colonne races\n",
    "data_info(races)"
   ]
  },
  {
   "cell_type": "code",
   "execution_count": 17,
   "metadata": {},
   "outputs": [],
   "source": [
    "races.replace(to_replace= '(X)', value = np.nan, inplace= True)"
   ]
  },
  {
   "cell_type": "code",
   "execution_count": 18,
   "metadata": {},
   "outputs": [
    {
     "data": {
      "text/plain": [
       "state                    category\n",
       "share_white               float64\n",
       "share_black               float64\n",
       "share_native_american     float64\n",
       "share_asian               float64\n",
       "share_hispanic            float64\n",
       "city                       object\n",
       "dtype: object"
      ]
     },
     "execution_count": 18,
     "metadata": {},
     "output_type": "execute_result"
    }
   ],
   "source": [
    "# itero sulle colonne di races\n",
    "for column in races.columns:\n",
    "    # se la colonna contiene una quota\n",
    "    if column[:6] == 'share_':\n",
    "        # converto la colonna in tipo float\n",
    "        races[column] = races[column].astype(float)\n",
    "\n",
    "# converto colonna state in categorica\n",
    "races.state = races.state.astype('category')\n",
    "\n",
    "# stampo i dtypes\n",
    "races.dtypes"
   ]
  },
  {
   "cell_type": "markdown",
   "metadata": {},
   "source": [
    "Reddito\n",
    "---\n",
    "\"incomes\" rileva il reddito medio dei cittadini di ogni città."
   ]
  },
  {
   "cell_type": "code",
   "execution_count": 19,
   "metadata": {},
   "outputs": [],
   "source": [
    "# sostituisco '(X)' con valori mancanti\n",
    "incomes.replace({'(X)': np.nan, '-': np.nan, '2,500-': '2500', '250,000+': '250000'}, inplace= True)"
   ]
  },
  {
   "cell_type": "code",
   "execution_count": 20,
   "metadata": {},
   "outputs": [
    {
     "data": {
      "text/plain": [
       "Median Income    6.49%\n",
       "dtype: object"
      ]
     },
     "execution_count": 20,
     "metadata": {},
     "output_type": "execute_result"
    }
   ],
   "source": [
    "# percentuale di missing values in ogni colonna sul totale\n",
    "round(incomes.isna().sum()[incomes.isna().sum() > 0]/incomes.shape[0] * 100, 2).astype(str) + '%'\n",
    "# le colonne non riportate non presentano Nan"
   ]
  },
  {
   "cell_type": "code",
   "execution_count": 21,
   "metadata": {},
   "outputs": [
    {
     "name": "stdout",
     "output_type": "stream",
     "text": [
      "Geographic Area object 51\n",
      "City object 24249\n",
      "Median Income object 14591\n"
     ]
    }
   ],
   "source": [
    "# stampo info di incomes\n",
    "data_info(incomes)"
   ]
  },
  {
   "cell_type": "code",
   "execution_count": 22,
   "metadata": {},
   "outputs": [
    {
     "data": {
      "text/plain": [
       "Geographic Area    category\n",
       "City                 object\n",
       "Median Income       float64\n",
       "dtype: object"
      ]
     },
     "execution_count": 22,
     "metadata": {},
     "output_type": "execute_result"
    }
   ],
   "source": [
    "# converto colonna stati in categorica\n",
    "incomes['Geographic Area'] = incomes['Geographic Area'].astype('category')\n",
    "\n",
    "# converto Median Income in numerica\n",
    "incomes['Median Income'] = incomes['Median Income'].astype(float)\n",
    "\n",
    "# stampo i dtypes del dataframe\n",
    "incomes.dtypes"
   ]
  },
  {
   "cell_type": "code",
   "execution_count": 23,
   "metadata": {},
   "outputs": [],
   "source": [
    "# rimpiazzo valori mancanti di Median Income con la mediana\n",
    "incomes.fillna({'Median Income' : incomes['Median Income'].median()}, inplace = True)"
   ]
  },
  {
   "cell_type": "markdown",
   "metadata": {},
   "source": [
    "Livello di povertà\n",
    "---\n",
    "\"poverty_level\" contiene la quota di persone sotto la soglia di povertà per ogni città presente nel dataframe. "
   ]
  },
  {
   "cell_type": "code",
   "execution_count": 24,
   "metadata": {},
   "outputs": [],
   "source": [
    "# sostituisco '-' con valori mancanti\n",
    "poverty_level.replace({'-': np.nan}, inplace= True)"
   ]
  },
  {
   "cell_type": "code",
   "execution_count": 25,
   "metadata": {},
   "outputs": [
    {
     "data": {
      "text/plain": [
       "poverty_rate    0.69%\n",
       "dtype: object"
      ]
     },
     "execution_count": 25,
     "metadata": {},
     "output_type": "execute_result"
    }
   ],
   "source": [
    "# percentuale di missing values in ogni colonna sul totale\n",
    "round(poverty_level.isna().sum()[poverty_level.isna().sum() > 0]/poverty_level.shape[0] * 100, 2).astype(str) + '%'\n",
    "# le colonne non riportate non presentano Nan"
   ]
  },
  {
   "cell_type": "code",
   "execution_count": 26,
   "metadata": {},
   "outputs": [],
   "source": [
    "# essendo gli esempi con valori mancanti inferiori all'1%, elimino le righe corrispondenti\n",
    "poverty_level.dropna(inplace = True)"
   ]
  },
  {
   "cell_type": "code",
   "execution_count": 27,
   "metadata": {},
   "outputs": [
    {
     "name": "stdout",
     "output_type": "stream",
     "text": [
      "Geographic Area object 51\n",
      "City object 24084\n",
      "poverty_rate object 770\n"
     ]
    }
   ],
   "source": [
    "# stampo info poverty_level\n",
    "data_info(poverty_level)"
   ]
  },
  {
   "cell_type": "code",
   "execution_count": 28,
   "metadata": {},
   "outputs": [
    {
     "data": {
      "text/plain": [
       "Geographic Area    category\n",
       "City                 object\n",
       "poverty_rate        float64\n",
       "dtype: object"
      ]
     },
     "execution_count": 28,
     "metadata": {},
     "output_type": "execute_result"
    }
   ],
   "source": [
    "# converto poverty_rate in float\n",
    "poverty_level.poverty_rate = poverty_level.poverty_rate.astype(float)\n",
    "\n",
    "# converto stati in categorica\n",
    "poverty_level['Geographic Area'] = poverty_level['Geographic Area'].astype('category')\n",
    "\n",
    "# stampo i dtypes\n",
    "poverty_level.dtypes"
   ]
  },
  {
   "cell_type": "markdown",
   "metadata": {},
   "source": [
    "Livello di istruzione\n",
    "---\n",
    "Le città del dataframe \"education\" sono provviste della percentuale di cittadini che hanno completato la high school. "
   ]
  },
  {
   "cell_type": "code",
   "execution_count": 29,
   "metadata": {},
   "outputs": [],
   "source": [
    "# sostituisco '-' con valori mancanti\n",
    "education.replace({'-': np.nan}, inplace= True)"
   ]
  },
  {
   "cell_type": "code",
   "execution_count": 30,
   "metadata": {},
   "outputs": [
    {
     "data": {
      "text/plain": [
       "percent_completed_hs    0.67%\n",
       "dtype: object"
      ]
     },
     "execution_count": 30,
     "metadata": {},
     "output_type": "execute_result"
    }
   ],
   "source": [
    "# percentuale di missing values in ogni colonna sul totale\n",
    "round(education.isna().sum()[education.isna().sum() > 0]/education.shape[0] * 100, 2).astype(str) + '%'\n",
    "# le colonne non riportate non presentano Nan"
   ]
  },
  {
   "cell_type": "code",
   "execution_count": 31,
   "metadata": {},
   "outputs": [],
   "source": [
    "# essendo gli esempi con valori mancanti inferiori all'1%, elimino le righe corrispondenti\n",
    "education.dropna(inplace = True)"
   ]
  },
  {
   "cell_type": "code",
   "execution_count": 32,
   "metadata": {},
   "outputs": [
    {
     "name": "stdout",
     "output_type": "stream",
     "text": [
      "Geographic Area object 51\n",
      "City object 24089\n",
      "percent_completed_hs object 727\n"
     ]
    }
   ],
   "source": [
    "# stampo info education\n",
    "data_info(education)"
   ]
  },
  {
   "cell_type": "code",
   "execution_count": 33,
   "metadata": {},
   "outputs": [
    {
     "data": {
      "text/plain": [
       "Geographic Area         category\n",
       "City                      object\n",
       "percent_completed_hs     float64\n",
       "dtype: object"
      ]
     },
     "execution_count": 33,
     "metadata": {},
     "output_type": "execute_result"
    }
   ],
   "source": [
    "# converto colonna in tipo float\n",
    "education.percent_completed_hs = education.percent_completed_hs.astype(float)\n",
    "\n",
    "# converto stati in categorica\n",
    "education['Geographic Area'] = education['Geographic Area'].astype('category')\n",
    "\n",
    "# stampo i dtypes\n",
    "education.dtypes"
   ]
  },
  {
   "cell_type": "markdown",
   "metadata": {
    "_cell_guid": "20bc46ba-4014-4756-ac32-688075cb9354",
    "_uuid": "65184045-d56e-4abb-92fc-4a705a9c0359"
   },
   "source": [
    "---"
   ]
  },
  {
   "cell_type": "markdown",
   "metadata": {
    "_cell_guid": "bc11f36b-48f4-4910-85d7-feebf610665f",
    "_uuid": "e62e4c6e-784e-489c-8cbe-2958cffef047"
   },
   "source": [
    "Maggior numero di vittime\n",
    "===\n",
    "In questa sezione metteremo in risalto gli stati con il maggior (e il minor) numero di uccisioni in rapporto alla popolazione; in questo capitolo dell'analisi **non** distingueremo in base all'etnia di appartenenza delle vittime."
   ]
  },
  {
   "cell_type": "code",
   "execution_count": 34,
   "metadata": {
    "_cell_guid": "de116b3b-72f6-4179-b711-9ca9858fc761",
    "_uuid": "0bed3336-57b3-42f8-9ed7-f62cef1f1bc8",
    "jupyter": {
     "outputs_hidden": false
    }
   },
   "outputs": [],
   "source": [
    "# creo dataframe con numero di vittime per ogni stato\n",
    "kills_per_state = pd.DataFrame(kills.state.value_counts())\n",
    "# rinomino la colonna 'state'\n",
    "kills_per_state.rename(columns = {'state':'kills'}, inplace = True)\n",
    "# rinomino l'indice\n",
    "kills_per_state.index.rename('state', inplace = True)\n",
    "\n",
    "# creo dataframe con popolazione per ogni stato\n",
    "pop_per_state = pop.groupby('state').population.sum().to_frame()\n",
    "pop_per_state.head()\n",
    "\n",
    "# unisco i due dataframe\n",
    "pop_kills = pop_per_state.merge(kills_per_state, on = 'state')\n",
    "\n",
    "# creo nuova colonna con tasso di uccisioni per stato\n",
    "pop_kills['kills_per_10k'] = pop_kills.kills/pop_kills.population * 10000\n",
    "\n",
    "# ordino il dataframe in base al tasso di uccisioni\n",
    "pop_kills.sort_values(by = 'kills_per_10k',ascending = False, inplace = True)\n",
    "\n",
    "# reimposto l'indice\n",
    "pop_kills.reset_index(inplace= True)"
   ]
  },
  {
   "cell_type": "code",
   "execution_count": 35,
   "metadata": {
    "hide_input": false
   },
   "outputs": [
    {
     "data": {
      "application/vnd.plotly.v1+json": {
       "config": {
        "plotlyServerURL": "https://plotly.com"
       },
       "data": [
        {
         "coloraxis": "coloraxis",
         "geo": "geo",
         "hovertemplate": "state=%{location}<br>kills_per_10k=%{z}<extra></extra>",
         "locationmode": "USA-states",
         "locations": [
          "AK",
          "NM",
          "MT",
          "ME",
          "MS",
          "WV",
          "OK",
          "KY",
          "VT",
          "NH",
          "WY",
          "SD",
          "AR",
          "DE",
          "ND",
          "ID",
          "AL",
          "KS",
          "CO",
          "HI",
          "TN",
          "AZ",
          "LA",
          "NV",
          "SC",
          "IN",
          "NJ",
          "NC",
          "MD",
          "NE",
          "OR",
          "GA",
          "MO",
          "WI",
          "IA",
          "WA",
          "TX",
          "VA",
          "UT",
          "OH",
          "CA",
          "FL",
          "MN",
          "MI",
          "PA",
          "IL",
          "CT",
          "MA",
          "DC",
          "NY",
          "RI"
         ],
         "name": "",
         "type": "choropleth",
         "z": [
          1.0065087566261828,
          0.836713656505616,
          0.8009878850582385,
          0.6972450453767075,
          0.6958661256665496,
          0.6702395916849824,
          0.6441293759182461,
          0.6222893680132894,
          0.6176991393391992,
          0.6056352579471814,
          0.5782065684266173,
          0.5468822884128511,
          0.5196312350335379,
          0.5084676817941451,
          0.4677122634155467,
          0.4542567791272504,
          0.4217362882989267,
          0.40921992619282577,
          0.3796274014080755,
          0.34953924372418177,
          0.34631888367064234,
          0.34178077235909815,
          0.33927830498783607,
          0.31985890336225514,
          0.3153568844067639,
          0.29830370004084883,
          0.29602735138946396,
          0.2764334037183227,
          0.2758317892440389,
          0.27402902382557803,
          0.2731014264560179,
          0.2719800563794466,
          0.27188335086918874,
          0.2713002929769124,
          0.2423030699106663,
          0.23020014430336955,
          0.2250662573588912,
          0.2113942279102416,
          0.20993212194723707,
          0.20685690685221733,
          0.1912723832851653,
          0.1907372927124645,
          0.16272001866467367,
          0.15835676599465437,
          0.12436208657556844,
          0.11661361826791201,
          0.07412536283522775,
          0.07051084565284366,
          0.037811329030404094,
          0.03768896386188784,
          0.03090461676343675
         ]
        }
       ],
       "layout": {
        "coloraxis": {
         "colorbar": {
          "title": {
           "text": "kills_per_10k"
          }
         },
         "colorscale": [
          [
           0,
           "#fcffa4"
          ],
          [
           0.1111111111111111,
           "#f7d13d"
          ],
          [
           0.2222222222222222,
           "#fb9b06"
          ],
          [
           0.3333333333333333,
           "#ed6925"
          ],
          [
           0.4444444444444444,
           "#cf4446"
          ],
          [
           0.5555555555555556,
           "#a52c60"
          ],
          [
           0.6666666666666666,
           "#781c6d"
          ],
          [
           0.7777777777777778,
           "#4a0c6b"
          ],
          [
           0.8888888888888888,
           "#1b0c41"
          ],
          [
           1,
           "#000004"
          ]
         ]
        },
        "geo": {
         "center": {},
         "domain": {
          "x": [
           0,
           1
          ],
          "y": [
           0,
           1
          ]
         },
         "scope": "usa",
         "showlakes": false
        },
        "legend": {
         "tracegroupgap": 0
        },
        "margin": {
         "b": 0,
         "l": 0,
         "r": 0,
         "t": 50
        },
        "template": {
         "data": {
          "bar": [
           {
            "error_x": {
             "color": "#2a3f5f"
            },
            "error_y": {
             "color": "#2a3f5f"
            },
            "marker": {
             "line": {
              "color": "#E5ECF6",
              "width": 0.5
             },
             "pattern": {
              "fillmode": "overlay",
              "size": 10,
              "solidity": 0.2
             }
            },
            "type": "bar"
           }
          ],
          "barpolar": [
           {
            "marker": {
             "line": {
              "color": "#E5ECF6",
              "width": 0.5
             },
             "pattern": {
              "fillmode": "overlay",
              "size": 10,
              "solidity": 0.2
             }
            },
            "type": "barpolar"
           }
          ],
          "carpet": [
           {
            "aaxis": {
             "endlinecolor": "#2a3f5f",
             "gridcolor": "white",
             "linecolor": "white",
             "minorgridcolor": "white",
             "startlinecolor": "#2a3f5f"
            },
            "baxis": {
             "endlinecolor": "#2a3f5f",
             "gridcolor": "white",
             "linecolor": "white",
             "minorgridcolor": "white",
             "startlinecolor": "#2a3f5f"
            },
            "type": "carpet"
           }
          ],
          "choropleth": [
           {
            "colorbar": {
             "outlinewidth": 0,
             "ticks": ""
            },
            "type": "choropleth"
           }
          ],
          "contour": [
           {
            "colorbar": {
             "outlinewidth": 0,
             "ticks": ""
            },
            "colorscale": [
             [
              0,
              "#0d0887"
             ],
             [
              0.1111111111111111,
              "#46039f"
             ],
             [
              0.2222222222222222,
              "#7201a8"
             ],
             [
              0.3333333333333333,
              "#9c179e"
             ],
             [
              0.4444444444444444,
              "#bd3786"
             ],
             [
              0.5555555555555556,
              "#d8576b"
             ],
             [
              0.6666666666666666,
              "#ed7953"
             ],
             [
              0.7777777777777778,
              "#fb9f3a"
             ],
             [
              0.8888888888888888,
              "#fdca26"
             ],
             [
              1,
              "#f0f921"
             ]
            ],
            "type": "contour"
           }
          ],
          "contourcarpet": [
           {
            "colorbar": {
             "outlinewidth": 0,
             "ticks": ""
            },
            "type": "contourcarpet"
           }
          ],
          "heatmap": [
           {
            "colorbar": {
             "outlinewidth": 0,
             "ticks": ""
            },
            "colorscale": [
             [
              0,
              "#0d0887"
             ],
             [
              0.1111111111111111,
              "#46039f"
             ],
             [
              0.2222222222222222,
              "#7201a8"
             ],
             [
              0.3333333333333333,
              "#9c179e"
             ],
             [
              0.4444444444444444,
              "#bd3786"
             ],
             [
              0.5555555555555556,
              "#d8576b"
             ],
             [
              0.6666666666666666,
              "#ed7953"
             ],
             [
              0.7777777777777778,
              "#fb9f3a"
             ],
             [
              0.8888888888888888,
              "#fdca26"
             ],
             [
              1,
              "#f0f921"
             ]
            ],
            "type": "heatmap"
           }
          ],
          "heatmapgl": [
           {
            "colorbar": {
             "outlinewidth": 0,
             "ticks": ""
            },
            "colorscale": [
             [
              0,
              "#0d0887"
             ],
             [
              0.1111111111111111,
              "#46039f"
             ],
             [
              0.2222222222222222,
              "#7201a8"
             ],
             [
              0.3333333333333333,
              "#9c179e"
             ],
             [
              0.4444444444444444,
              "#bd3786"
             ],
             [
              0.5555555555555556,
              "#d8576b"
             ],
             [
              0.6666666666666666,
              "#ed7953"
             ],
             [
              0.7777777777777778,
              "#fb9f3a"
             ],
             [
              0.8888888888888888,
              "#fdca26"
             ],
             [
              1,
              "#f0f921"
             ]
            ],
            "type": "heatmapgl"
           }
          ],
          "histogram": [
           {
            "marker": {
             "pattern": {
              "fillmode": "overlay",
              "size": 10,
              "solidity": 0.2
             }
            },
            "type": "histogram"
           }
          ],
          "histogram2d": [
           {
            "colorbar": {
             "outlinewidth": 0,
             "ticks": ""
            },
            "colorscale": [
             [
              0,
              "#0d0887"
             ],
             [
              0.1111111111111111,
              "#46039f"
             ],
             [
              0.2222222222222222,
              "#7201a8"
             ],
             [
              0.3333333333333333,
              "#9c179e"
             ],
             [
              0.4444444444444444,
              "#bd3786"
             ],
             [
              0.5555555555555556,
              "#d8576b"
             ],
             [
              0.6666666666666666,
              "#ed7953"
             ],
             [
              0.7777777777777778,
              "#fb9f3a"
             ],
             [
              0.8888888888888888,
              "#fdca26"
             ],
             [
              1,
              "#f0f921"
             ]
            ],
            "type": "histogram2d"
           }
          ],
          "histogram2dcontour": [
           {
            "colorbar": {
             "outlinewidth": 0,
             "ticks": ""
            },
            "colorscale": [
             [
              0,
              "#0d0887"
             ],
             [
              0.1111111111111111,
              "#46039f"
             ],
             [
              0.2222222222222222,
              "#7201a8"
             ],
             [
              0.3333333333333333,
              "#9c179e"
             ],
             [
              0.4444444444444444,
              "#bd3786"
             ],
             [
              0.5555555555555556,
              "#d8576b"
             ],
             [
              0.6666666666666666,
              "#ed7953"
             ],
             [
              0.7777777777777778,
              "#fb9f3a"
             ],
             [
              0.8888888888888888,
              "#fdca26"
             ],
             [
              1,
              "#f0f921"
             ]
            ],
            "type": "histogram2dcontour"
           }
          ],
          "mesh3d": [
           {
            "colorbar": {
             "outlinewidth": 0,
             "ticks": ""
            },
            "type": "mesh3d"
           }
          ],
          "parcoords": [
           {
            "line": {
             "colorbar": {
              "outlinewidth": 0,
              "ticks": ""
             }
            },
            "type": "parcoords"
           }
          ],
          "pie": [
           {
            "automargin": true,
            "type": "pie"
           }
          ],
          "scatter": [
           {
            "marker": {
             "colorbar": {
              "outlinewidth": 0,
              "ticks": ""
             }
            },
            "type": "scatter"
           }
          ],
          "scatter3d": [
           {
            "line": {
             "colorbar": {
              "outlinewidth": 0,
              "ticks": ""
             }
            },
            "marker": {
             "colorbar": {
              "outlinewidth": 0,
              "ticks": ""
             }
            },
            "type": "scatter3d"
           }
          ],
          "scattercarpet": [
           {
            "marker": {
             "colorbar": {
              "outlinewidth": 0,
              "ticks": ""
             }
            },
            "type": "scattercarpet"
           }
          ],
          "scattergeo": [
           {
            "marker": {
             "colorbar": {
              "outlinewidth": 0,
              "ticks": ""
             }
            },
            "type": "scattergeo"
           }
          ],
          "scattergl": [
           {
            "marker": {
             "colorbar": {
              "outlinewidth": 0,
              "ticks": ""
             }
            },
            "type": "scattergl"
           }
          ],
          "scattermapbox": [
           {
            "marker": {
             "colorbar": {
              "outlinewidth": 0,
              "ticks": ""
             }
            },
            "type": "scattermapbox"
           }
          ],
          "scatterpolar": [
           {
            "marker": {
             "colorbar": {
              "outlinewidth": 0,
              "ticks": ""
             }
            },
            "type": "scatterpolar"
           }
          ],
          "scatterpolargl": [
           {
            "marker": {
             "colorbar": {
              "outlinewidth": 0,
              "ticks": ""
             }
            },
            "type": "scatterpolargl"
           }
          ],
          "scatterternary": [
           {
            "marker": {
             "colorbar": {
              "outlinewidth": 0,
              "ticks": ""
             }
            },
            "type": "scatterternary"
           }
          ],
          "surface": [
           {
            "colorbar": {
             "outlinewidth": 0,
             "ticks": ""
            },
            "colorscale": [
             [
              0,
              "#0d0887"
             ],
             [
              0.1111111111111111,
              "#46039f"
             ],
             [
              0.2222222222222222,
              "#7201a8"
             ],
             [
              0.3333333333333333,
              "#9c179e"
             ],
             [
              0.4444444444444444,
              "#bd3786"
             ],
             [
              0.5555555555555556,
              "#d8576b"
             ],
             [
              0.6666666666666666,
              "#ed7953"
             ],
             [
              0.7777777777777778,
              "#fb9f3a"
             ],
             [
              0.8888888888888888,
              "#fdca26"
             ],
             [
              1,
              "#f0f921"
             ]
            ],
            "type": "surface"
           }
          ],
          "table": [
           {
            "cells": {
             "fill": {
              "color": "#EBF0F8"
             },
             "line": {
              "color": "white"
             }
            },
            "header": {
             "fill": {
              "color": "#C8D4E3"
             },
             "line": {
              "color": "white"
             }
            },
            "type": "table"
           }
          ]
         },
         "layout": {
          "annotationdefaults": {
           "arrowcolor": "#2a3f5f",
           "arrowhead": 0,
           "arrowwidth": 1
          },
          "autotypenumbers": "strict",
          "coloraxis": {
           "colorbar": {
            "outlinewidth": 0,
            "ticks": ""
           }
          },
          "colorscale": {
           "diverging": [
            [
             0,
             "#8e0152"
            ],
            [
             0.1,
             "#c51b7d"
            ],
            [
             0.2,
             "#de77ae"
            ],
            [
             0.3,
             "#f1b6da"
            ],
            [
             0.4,
             "#fde0ef"
            ],
            [
             0.5,
             "#f7f7f7"
            ],
            [
             0.6,
             "#e6f5d0"
            ],
            [
             0.7,
             "#b8e186"
            ],
            [
             0.8,
             "#7fbc41"
            ],
            [
             0.9,
             "#4d9221"
            ],
            [
             1,
             "#276419"
            ]
           ],
           "sequential": [
            [
             0,
             "#0d0887"
            ],
            [
             0.1111111111111111,
             "#46039f"
            ],
            [
             0.2222222222222222,
             "#7201a8"
            ],
            [
             0.3333333333333333,
             "#9c179e"
            ],
            [
             0.4444444444444444,
             "#bd3786"
            ],
            [
             0.5555555555555556,
             "#d8576b"
            ],
            [
             0.6666666666666666,
             "#ed7953"
            ],
            [
             0.7777777777777778,
             "#fb9f3a"
            ],
            [
             0.8888888888888888,
             "#fdca26"
            ],
            [
             1,
             "#f0f921"
            ]
           ],
           "sequentialminus": [
            [
             0,
             "#0d0887"
            ],
            [
             0.1111111111111111,
             "#46039f"
            ],
            [
             0.2222222222222222,
             "#7201a8"
            ],
            [
             0.3333333333333333,
             "#9c179e"
            ],
            [
             0.4444444444444444,
             "#bd3786"
            ],
            [
             0.5555555555555556,
             "#d8576b"
            ],
            [
             0.6666666666666666,
             "#ed7953"
            ],
            [
             0.7777777777777778,
             "#fb9f3a"
            ],
            [
             0.8888888888888888,
             "#fdca26"
            ],
            [
             1,
             "#f0f921"
            ]
           ]
          },
          "colorway": [
           "#636efa",
           "#EF553B",
           "#00cc96",
           "#ab63fa",
           "#FFA15A",
           "#19d3f3",
           "#FF6692",
           "#B6E880",
           "#FF97FF",
           "#FECB52"
          ],
          "font": {
           "color": "#2a3f5f"
          },
          "geo": {
           "bgcolor": "white",
           "lakecolor": "white",
           "landcolor": "#E5ECF6",
           "showlakes": true,
           "showland": true,
           "subunitcolor": "white"
          },
          "hoverlabel": {
           "align": "left"
          },
          "hovermode": "closest",
          "mapbox": {
           "style": "light"
          },
          "paper_bgcolor": "white",
          "plot_bgcolor": "#E5ECF6",
          "polar": {
           "angularaxis": {
            "gridcolor": "white",
            "linecolor": "white",
            "ticks": ""
           },
           "bgcolor": "#E5ECF6",
           "radialaxis": {
            "gridcolor": "white",
            "linecolor": "white",
            "ticks": ""
           }
          },
          "scene": {
           "xaxis": {
            "backgroundcolor": "#E5ECF6",
            "gridcolor": "white",
            "gridwidth": 2,
            "linecolor": "white",
            "showbackground": true,
            "ticks": "",
            "zerolinecolor": "white"
           },
           "yaxis": {
            "backgroundcolor": "#E5ECF6",
            "gridcolor": "white",
            "gridwidth": 2,
            "linecolor": "white",
            "showbackground": true,
            "ticks": "",
            "zerolinecolor": "white"
           },
           "zaxis": {
            "backgroundcolor": "#E5ECF6",
            "gridcolor": "white",
            "gridwidth": 2,
            "linecolor": "white",
            "showbackground": true,
            "ticks": "",
            "zerolinecolor": "white"
           }
          },
          "shapedefaults": {
           "line": {
            "color": "#2a3f5f"
           }
          },
          "ternary": {
           "aaxis": {
            "gridcolor": "white",
            "linecolor": "white",
            "ticks": ""
           },
           "baxis": {
            "gridcolor": "white",
            "linecolor": "white",
            "ticks": ""
           },
           "bgcolor": "#E5ECF6",
           "caxis": {
            "gridcolor": "white",
            "linecolor": "white",
            "ticks": ""
           }
          },
          "title": {
           "x": 0.05
          },
          "xaxis": {
           "automargin": true,
           "gridcolor": "white",
           "linecolor": "white",
           "ticks": "",
           "title": {
            "standoff": 15
           },
           "zerolinecolor": "white",
           "zerolinewidth": 2
          },
          "yaxis": {
           "automargin": true,
           "gridcolor": "white",
           "linecolor": "white",
           "ticks": "",
           "title": {
            "standoff": 15
           },
           "zerolinecolor": "white",
           "zerolinewidth": 2
          }
         }
        },
        "title": {
         "text": "KILLS EVERY 10K INHABITANTS BY STATE"
        },
        "width": 850
       }
      }
     },
     "metadata": {},
     "output_type": "display_data"
    }
   ],
   "source": [
    "# creo una mappa\n",
    "fig = px.choropleth(data_frame = pop_kills, locations = 'state', locationmode = 'USA-states', scope = 'usa', color = 'kills_per_10k', color_continuous_scale = 'inferno_r', title = 'KILLS EVERY 10K INHABITANTS BY STATE')\n",
    "\n",
    "# modifico aspetto\n",
    "fig.update_layout(geo_showlakes = False)\n",
    "\n",
    "# imposto elementi del grafico\n",
    "fig.update_layout(width = 850, margin = dict(t = 50, b = 0, l = 0, r = 0))\n",
    "\n",
    "fig.show()"
   ]
  },
  {
   "cell_type": "markdown",
   "metadata": {},
   "source": [
    "Dalla mappa è facile notare come gli stati in cui è maggiore la tendenza a fare vittime presentino le più disparate posizioni: nel Maine (costa nordorientale) si registra un alto numero di vittime rispetto alla popolazione, così come nel New Mexico, situato al confine merdidionale. La collocazione geografica dello stato non sembra essere correlata al numero di vittime.  \n",
    "La mappa è stata costruita in modo che lo stato con il colore più scuro corrisponda a quello dove sono state riportate le maggiori uccisioni in rapporto alla popolazione, ovvero l'Alaska. Gli stati più virtuosi assumono le tonalità più chiare, come ad esempio il Massachussets e lo stato di New York, ma anche alcuni più centrali come l'Illinois."
   ]
  },
  {
   "cell_type": "markdown",
   "metadata": {
    "_cell_guid": "53dfb830-b485-4232-8c0c-56f6b5097270",
    "_uuid": "5d4c6f5f-3c5c-48e7-b461-493e53008c1f"
   },
   "source": [
    "---"
   ]
  },
  {
   "cell_type": "markdown",
   "metadata": {
    "_cell_guid": "532c8184-922e-4e5e-aac0-6f12f80e07f5",
    "_uuid": "5c4e37da-6fde-480c-8246-5e3146e8d4b2"
   },
   "source": [
    "Analisi generale razzismo\n",
    "===\n",
    "Ora che abbiamo analizzato in generale quali sono gli stati più \"pericolosi\" metteremo in luce le differenze tra le quote di cittadini statunitensi di ogni razza e le quote di vittime di ogni razza rispetto al totale delle vittime. In altre parole paragoneremo la presenza di ogni etnia tra le vittime con quella nella popolazione, per individuare eventuali squilibri."
   ]
  },
  {
   "cell_type": "code",
   "execution_count": 37,
   "metadata": {
    "_cell_guid": "d68f7418-3270-4145-830d-28d1769195fa",
    "_uuid": "6d4415c6-c28e-42e9-b566-b927fee15e30"
   },
   "outputs": [],
   "source": [
    "# calcolo il numero di vittime per ogni razza sul totale delle vittime\n",
    "\n",
    "# totale vittime per razza\n",
    "kills_per_race = kills.race.value_counts() \n",
    "\n",
    "# divido il totale di ogni razza per il totale delle vittime\n",
    "kills_rate = pd.DataFrame(kills_per_race/kills_per_race.sum())\n",
    "\n",
    "# rinomino la colonna con i tassi di uccisione per ogni razza\n",
    "kills_rate.rename(columns = {'race':'rate'}, inplace = True)\n",
    "\n",
    "# rinomino l'indice\n",
    "kills_rate.index.rename('race', inplace = True)"
   ]
  },
  {
   "cell_type": "code",
   "execution_count": 38,
   "metadata": {
    "_cell_guid": "518ffbed-193f-47d2-a33e-9434a26cd52b",
    "_uuid": "2fc72c2b-3728-42c1-947d-4355aaff77ce",
    "jupyter": {
     "outputs_hidden": false
    }
   },
   "outputs": [],
   "source": [
    "# creo races_pop che contiene la popolazione e le quote di razza per ogni città\n",
    "races_pop = pop.merge(races, on = ['state','city'])\n",
    "\n",
    "# creo colonne con totale abitanti per ogni razza di ogni città\n",
    "for race_share in races_pop.columns[races_pop.columns.get_loc('share_white'):]:\n",
    "    race_name = race_share[race_share.index('_') + 1 : ]\n",
    "    tot_race = 'tot_' + race_name\n",
    "    races_pop[tot_race] = races_pop[race_share].astype(float)/100 * races_pop.population\n",
    "\n",
    "# arrotondo il numero (sono persone, non possono essere numeri decimali) \n",
    "races_pop.loc[:,'tot_white':].round(decimals = 0)\n",
    "\n",
    "# trasformo i numeri in interi\n",
    "races_pop.loc[:,'tot_white':] = races_pop.loc[:,'tot_white':].astype(int)"
   ]
  },
  {
   "cell_type": "code",
   "execution_count": 40,
   "metadata": {
    "_cell_guid": "c43fbb32-904a-4894-a5c1-f9d3b17f541f",
    "_uuid": "a99a6cc9-3bc6-4ec6-a87b-15bc7e68b72d",
    "jupyter": {
     "outputs_hidden": false
    }
   },
   "outputs": [],
   "source": [
    "# calcolo le quote di ogni razza nella popolazione\n",
    "pop_race_shares = races_pop.loc[:,'tot_white':].sum()/races_pop.loc[:,'tot_white':].sum().sum()\n",
    "\n",
    "# creo un data frame con le quote\n",
    "pop_race_shares = pop_race_shares.to_frame()\n",
    "\n",
    "# rinomino la colonna\n",
    "pop_race_shares.rename( columns = {0:'rate'}, inplace = True)"
   ]
  },
  {
   "cell_type": "code",
   "execution_count": 41,
   "metadata": {
    "_cell_guid": "d234d359-780b-4b0e-b0c6-a437d2653117",
    "_uuid": "ddf71173-37c5-4bed-a3d4-33888eb7e1ac",
    "jupyter": {
     "outputs_hidden": false
    }
   },
   "outputs": [
    {
     "data": {
      "image/png": "[encoded data removed]",
      "text/plain": [
       "<Figure size 1080x432 with 2 Axes>"
      ]
     },
     "metadata": {},
     "output_type": "display_data"
    }
   ],
   "source": [
    "# imposto lo stile \n",
    "sns.set_style('darkgrid')\n",
    "\n",
    "# creo subplots\n",
    "fig, ax = plt.subplots(nrows = 1, ncols = 2, figsize = (15,6), sharex = True)\n",
    "\n",
    "# inserisco il titolo\n",
    "fig.suptitle('Police victims composition vs. population composition', fontsize = 20)\n",
    "\n",
    "# creo barplot per la quota di vittime per razza\n",
    "sns.barplot(ax = ax[0], data = kills_rate, y = kills_rate.index, x = 'rate', palette = 'plasma', edgecolor = 'black', order = ['W', 'B', 'H', 'A', 'N'])\n",
    "\n",
    "# barplot quote razze nella popolazione\n",
    "sns.barplot(ax = ax[1], data = pop_race_shares, x = 'rate', y = pop_race_shares.index, palette = 'plasma', edgecolor = 'black', order = ['tot_white', 'tot_black', 'tot_hispanic', 'tot_asian', 'tot_native_american'])\n",
    "\n",
    "# imposto titoli dei grafici\n",
    "ax[0].set_title('Victims\\' Composition', fontsize = 17)\n",
    "ax[1].set_title('Population\\'s Composition', fontsize = 17)\n",
    "\n",
    "# imposto titoli assi x\n",
    "ax[0].set_xlabel('Rate', size = 15)\n",
    "ax[1].set_xlabel('Rate', size = 15)\n",
    "\n",
    "# imposto titoli assi y\n",
    "ax[0].set_ylabel('Race', size = 15)\n",
    "\n",
    "# imposto xticks\n",
    "ax[0].set_yticklabels(['Whites', 'Blacks', 'Hispanics', 'Asians', 'Natives'], size = 12, rotation = 45)\n",
    "ax[1].set_yticklabels(['Whites', 'Blacks', 'Hispanics', 'Asians', 'Natives'], size = 12, rotation = 45)\n",
    "\n",
    "# mostro il grafico\n",
    "plt.show()"
   ]
  },
  {
   "cell_type": "markdown",
   "metadata": {
    "_cell_guid": "5379fa25-4b42-4a1d-b512-379473e3fc48",
    "_uuid": "cd4854ab-1132-4af8-9340-b05de5d3cbaf"
   },
   "source": [
    "Dal grafico emerge come la quota di vittime afroamericane sia maggiore rispetto alla loro quota all'interno della popolazione.\n",
    "Questo fatto può avere portato alla nascita dei movimenti contro la violenza della polizia quali ad esempio 'BlackLivesMatter'.\n",
    "\n",
    "L'analisi del prossimo paragrafo approfondirà ulteriormente questo tema."
   ]
  },
  {
   "cell_type": "markdown",
   "metadata": {
    "_cell_guid": "2d3abf7e-ad50-4718-849e-833cffae9c7d",
    "_uuid": "70923fb3-2425-4377-aa28-4dc220868d27"
   },
   "source": [
    "---"
   ]
  },
  {
   "cell_type": "markdown",
   "metadata": {
    "_cell_guid": "ab7ffcec-7916-4d39-966b-5b8f3e865735",
    "_uuid": "fda7090a-f09a-432c-8580-fa336494ecc0"
   },
   "source": [
    "BlackLivesMatter\n",
    "===\n",
    "Di seguito analizzeremo i dati, per capire se si possa parlare di un vero e proprio fenomeno di razzismo, o se si tratti di casi isolati.\n",
    "\n",
    "In questa sezione verrà analizzata la situazione nei diversi stati. In questo caso rapportare le vittime nere con la popolazione afroamericana di ogni stato non avrebbe molto senso perchè, come abbiamo visto, il tasso di vittime generale della polizia varia da stato a stato: un alto rapporto tra vittime nere e popolazione afroamericana potrebbe essere sintomo di una tendenza generalizzata della poliza di quello stato a fare più vittime, indipendentemente dalla razza.\n",
    "\n",
    "Per questo confronteremo per ogni stato la quota di vittime nere sul totale delle vittime e il tasso di afroamericani nella popolazione, cercando gli stati in cui si riscontrano maggiori differenze. In sostanza, estenderemo il ragionamento portato avanti nel capitolo precedente per ognuno degli stati americani."
   ]
  },
  {
   "cell_type": "code",
   "execution_count": 42,
   "metadata": {
    "_cell_guid": "97450987-d9d1-4a7d-a214-8706244031e2",
    "_uuid": "ff79fb03-6bd8-42ad-a717-52bbfa8f3a31"
   },
   "outputs": [],
   "source": [
    "# totale afroamericani e popolazione di ogni stato\n",
    "blacks_by_state = races_pop.groupby('state')[['tot_black','population']].sum()\n",
    "\n",
    "# quota di neri per stato\n",
    "blacks_by_state['shares'] = blacks_by_state.tot_black / blacks_by_state.population\n",
    "\n",
    "# percentuale di neri per stato\n",
    "blacks_by_state['percentage'] = (blacks_by_state.shares * 100).round(decimals = 1)\n",
    "\n",
    "# ordino in base alle shares di afroamercani\n",
    "blacks_by_state = blacks_by_state.sort_values(by = 'shares', ascending = False)"
   ]
  },
  {
   "cell_type": "code",
   "execution_count": 43,
   "metadata": {
    "_cell_guid": "d32883eb-a49f-43ce-8358-ab8caa17e919",
    "_uuid": "4112259e-0dfe-4129-9be0-11a2bd58c969",
    "jupyter": {
     "outputs_hidden": false
    }
   },
   "outputs": [],
   "source": [
    "# numero di vittime per razza per ogni stato\n",
    "kills_state_race = kills.pivot_table(kills, index = 'state', columns = 'race', aggfunc = 'size', fill_value = 0)\n",
    "\n",
    "# creo colonna con vittime totali per ogni stato\n",
    "kills_state_race['total'] = kills_state_race.sum(axis = 1)\n",
    "\n",
    "# quota di afroamericani sul totale delle vittime di ogni stato\n",
    "kills_state_race['% black kills'] = (kills_state_race.B / kills_state_race.total * 100).round( decimals = 1)\n",
    "\n",
    "# ordino il dataframe per '% black kills'\n",
    "kills_state_race = kills_state_race.sort_values(by = '% black kills', ascending = False)\n",
    "\n",
    "# per coerenza col dataframe precedente elimino il DC dagli stati\n",
    "kills_state_race = kills_state_race.drop(index = 'DC')"
   ]
  },
  {
   "cell_type": "code",
   "execution_count": 44,
   "metadata": {
    "_cell_guid": "c54816fa-8644-4357-a52f-f6c434fb112d",
    "_uuid": "e3b5844c-c0f6-4e0c-8a84-1191df0caf8a"
   },
   "outputs": [
    {
     "data": {
      "image/png": "[encoded data removed]",
      "text/plain": [
       "<Figure size 1080x1080 with 2 Axes>"
      ]
     },
     "metadata": {},
     "output_type": "display_data"
    }
   ],
   "source": [
    "# visualizzazione\n",
    "fig, ax = plt.subplots(nrows = 1, ncols = 2, figsize = (15,15), sharey = True)\n",
    "\n",
    "# afroamericani sul totale delle vittime per stato\n",
    "sns.barplot(data = kills_state_race, x = '% black kills', y = kills_state_race.index, ax = ax[0], order = kills_state_race.index.to_list() ,palette = 'plasma', edgecolor = 'black')\n",
    "\n",
    "# percentuale di afroamericani nella popolazione per stato\n",
    "sns.barplot(data = blacks_by_state, x = 'percentage', y = blacks_by_state.index, ax = ax[1], palette = 'plasma', order = kills_state_race.index.to_list(), edgecolor = 'black')\n",
    "\n",
    "# imposto titoli grafici\n",
    "ax[0].set_title(label = '% afroamericani sul totale delle vittime', fontsize = 18)\n",
    "ax[1].set_title(label = '% afroamericani nella popolazione', fontsize = 18)\n",
    "\n",
    "# imposto titoli assi x\n",
    "ax[0].set_xlabel('Percentuale', size = 15)\n",
    "ax[1].set_xlabel('Percentuale', size = 15)\n",
    "\n",
    "# imposto titoli assi y\n",
    "ax[0].set_ylabel('Stato', size = 15)\n",
    "ax[1].set_ylabel('Stato', size = 15)\n",
    "\n",
    "plt.show()"
   ]
  },
  {
   "cell_type": "markdown",
   "metadata": {},
   "source": [
    "Da questi grafici emergono forti disuguaglianze ma il confronto rimane difficoltoso. Per avere una visione più chiara possiamo calcolare la differenza tra la percentuale di neri uccisi e la loro quota nella popolazione."
   ]
  },
  {
   "cell_type": "code",
   "execution_count": 45,
   "metadata": {
    "_cell_guid": "4cb8013d-280d-438a-a440-b2b706fa993e",
    "_uuid": "e062730c-2e4a-42f0-a4d2-259a696e1149",
    "jupyter": {
     "outputs_hidden": false
    }
   },
   "outputs": [],
   "source": [
    "# differenze tra % di vittime e quota della poplazione per ogni stato\n",
    "differences = kills_state_race['% black kills'] - blacks_by_state.percentage\n",
    "\n",
    "# ordino la serie\n",
    "differences = differences.sort_values(ascending = False)"
   ]
  },
  {
   "cell_type": "code",
   "execution_count": 46,
   "metadata": {
    "_cell_guid": "8cc8cc96-49a8-4cfd-9bf1-43761a5b0023",
    "_uuid": "948f0ec0-8065-4947-95f2-a76ddb63b2f3",
    "jupyter": {
     "outputs_hidden": false
    }
   },
   "outputs": [
    {
     "data": {
      "image/png": "[encoded data removed]",
      "text/plain": [
       "<Figure size 1440x576 with 1 Axes>"
      ]
     },
     "metadata": {},
     "output_type": "display_data"
    }
   ],
   "source": [
    "# scalo i valori\n",
    "scaled_diff = minmax_scale(differences)\n",
    "\n",
    "# creo una figura\n",
    "plt.figure(figsize = (20,8))\n",
    "\n",
    "# barplot per le differenze\n",
    "sns.barplot(y = scaled_diff, x = differences.index, edgecolor = 'black', palette= 'inferno', order = differences.index.to_list())\n",
    "\n",
    "# titolo del grafico\n",
    "plt.title('Differences between black quotes and black killings', fontsize = 16)\n",
    "\n",
    "plt.show()"
   ]
  },
  {
   "cell_type": "markdown",
   "metadata": {
    "_cell_guid": "fac4892d-be8b-46c2-ac63-a6c1c2cc392c",
    "_uuid": "516e31c9-4ec9-468f-82e8-74396336b9bd"
   },
   "source": [
    "Gli stati in cui la quota di neri uccisi è sensibilmente più alta rispetto alla loro percentuale nella popolazione sono lo stato di Rhode Island, l'Illinois, il New York e il New Jersey.  \n",
    "E' interessante notare come approfondendo l'analisi, alcuni stati, che in prima istanza sembravano essere tra i più virtuosi, risultano presentare i maggiori problemi sotto questo particolare aspetto.\n",
    "\n",
    "Inoltre ciò che accoumuna molti degli stati più critici è che sono tutti situati sulla costa orientale (tranne l'Illinois) e sono a maggioranza democratica, rivelando una possibile correlazione dal punto di vista politico e geografico che non era emersa precedentemente.\n",
    "\n",
    "Ovviamente bisognerebbe condurre analisi più approfondite prima di stabilire definitivamente una correlazione tra il fattore geopolitico e il tasso di vittime della polizia.\n",
    "\n",
    "Si può anche notare come in Alabama, Mississipi e Michigan i tassi di vittime afroamericane rispetto alla quota della popolazione siano i più bassi in assoluto."
   ]
  },
  {
   "cell_type": "markdown",
   "metadata": {
    "_cell_guid": "04aac2ab-dba9-4631-be82-17d8cffb7276",
    "_uuid": "0baf3eda-760a-4b2d-ae25-56fa6a9f75a1"
   },
   "source": [
    "---"
   ]
  },
  {
   "cell_type": "markdown",
   "metadata": {
    "_cell_guid": "bdc713e5-3cfb-4bd8-9ee6-cda050350e79",
    "_uuid": "4bea22e9-5027-48fa-9369-a32ecd2e7f2a"
   },
   "source": [
    "Altre variabili \n",
    "===\n",
    "In questa sezione analizzeremo come varia l'età delle vittime in base al genere e al fatto che mostrino o meno segni di malattie mentali; studieremo il livello di minaccia dei vari episodi e le armi più utilizzate dalla polizia."
   ]
  },
  {
   "cell_type": "code",
   "execution_count": 48,
   "metadata": {
    "_cell_guid": "4429c08c-3bb4-4268-be5e-ba733b3d6159",
    "_uuid": "a6f47f5d-5586-47a8-8692-0f42b06bd451",
    "jupyter": {
     "outputs_hidden": false
    }
   },
   "outputs": [
    {
     "data": {
      "image/png": "[encoded data removed]",
      "text/plain": [
       "<Figure size 864x1440 with 6 Axes>"
      ]
     },
     "metadata": {},
     "output_type": "display_data"
    }
   ],
   "source": [
    "# ignoro warnings\n",
    "warnings.filterwarnings('ignore')\n",
    "\n",
    "# aumento grandezza del testo\n",
    "sns.set(font_scale = 1.2)\n",
    "\n",
    "# creo dei subplots\n",
    "fig, axis = plt.subplots(nrows = 3, ncols = 2, figsize = (12, 20))\n",
    "\n",
    "# vittime per genere\n",
    "sns.countplot(kills.gender, edgecolor = 'black', ax = axis[0,0])\n",
    "# imposto titoli\n",
    "axis[0,0].set(title = 'Kills by gender', xlabel = 'Gender', ylabel = 'Count', xticklabels = ['Male', 'Female','Unknown'])\n",
    "\n",
    "# rappresento come varia distribuzione di età in base al genere\n",
    "sns.violinplot(data = kills, y= 'gender', x = 'age', ax = axis[0,1], order = ['M', 'F'])\n",
    "# imposto titoli\n",
    "axis[0,1].set(title = 'Gender distribution by age', xlabel = 'Age', ylabel = 'Gender', yticklabels = ['Male', 'Female'])\n",
    "\n",
    "# estraggo le 10 armi più utilizzate\n",
    "armed = kills.armed.value_counts()[0:10]\n",
    "# creo un barplot\n",
    "sns.barplot(x = armed.index, y = armed.values, ax = axis[1,0], edgecolor = 'black', order = armed.index.to_list())\n",
    "# imposto titolo\n",
    "axis[1,0].set_title('Top 10 weapons used')\n",
    "# imposto xticks\n",
    "axis[1,0].tick_params(axis = 'x', labelrotation = 27, labelsize = 12)\n",
    "\n",
    "# se la vittima stava scappando e come\n",
    "sns.countplot(data = kills, x = 'flee', ax = axis[1,1], edgecolor = 'black')\n",
    "# imposto titolo\n",
    "axis[1,1].set_title('Victim fleeing')\n",
    "\n",
    "# livello di minaccia\n",
    "sns.countplot(kills.threat_level, ax = axis[2,0], edgecolor = 'black')\n",
    "# imposto titolo\n",
    "axis[2,0].set_title('Threat level')\n",
    "\n",
    "# converto in stringhe gli elementi della serie\n",
    "kills['signs_of_mental_illness'] = kills.signs_of_mental_illness.astype(str)\n",
    "# distribuzione età vs malattie mentali\n",
    "sns.violinplot(data = kills, y = 'signs_of_mental_illness', x = 'age', ax = axis[2,1])\n",
    "# imposto titoli\n",
    "axis[2,1].set(title = 'mentally ill victimns by age', xlabel = 'Age', ylabel = 'Mental illnesses', yticklabels = ['True', 'False'])\n",
    "\n",
    "# titolo della figura\n",
    "fig.suptitle('Other Relevant Factors', fontsize = 24, y = 0.91)\n",
    "\n",
    "plt.show()"
   ]
  },
  {
   "cell_type": "markdown",
   "metadata": {},
   "source": [
    "Il numero di uomini uccisi è molto superiore rispetto a quello di donne. Tuttavia la distribuzione per età non varia molto: si può osservare come quella delle vittime di genere maschile sia solamente un po' più concentrata tra i 20 e i 40 anni rispetto alle donne.\n",
    "\n",
    "Lo stesso vale per le vittime che presentano segni di malattie mentali, solo leggermente più propense ad essere uccise anche in età più avanzata.\n",
    "\n",
    "Si può inoltre osservare come secondo i rapporti, la maggioranza delle vittime non stesse scappando; questo può essere dovuto al fatto che nella maggioranza dei casi le vittime della polizia stessero aggredendo gli ufficiali, come emerge dall'analisi dei livelli di minaccia."
   ]
  },
  {
   "cell_type": "code",
   "execution_count": 50,
   "metadata": {},
   "outputs": [
    {
     "name": "stdout",
     "output_type": "stream",
     "text": [
      "0    50-60\n",
      "1    40-50\n",
      "2    19-30\n",
      "3    31-40\n",
      "4    31-40\n",
      "Name: Age_Group, dtype: category\n",
      "Categories (6, object): ['0-18' < '19-30' < '31-40' < '40-50' < '50-60' < '60-80']\n"
     ]
    }
   ],
   "source": [
    "# percentuale di NaN in colonna age di kills\n",
    "kills.age.isna().sum()/len(kills.age)\n",
    "\n",
    "# sostituisco i valori mancanti di ages con il precedente\n",
    "ages_filled = kills.age.fillna(method= 'ffill')\n",
    "\n",
    "# divido la serie in categorie\n",
    "cat_ages = pd.cut(ages_filled, bins = [0, 18, 30, 40, 50, 60, 80], labels=['0-18', '19-30', '31-40', '40-50', '50-60', '60-80'])\n",
    "# in bins escluso inizio intervallo e inclusa la fine\n",
    "\n",
    "# inserisco la serie nel dataframe\n",
    "kills.insert(5, 'Age_Group', cat_ages)\n",
    "\n",
    "# nuova colonna\n",
    "print(kills.Age_Group.head())"
   ]
  },
  {
   "cell_type": "code",
   "execution_count": 51,
   "metadata": {},
   "outputs": [
    {
     "data": {
      "image/png": "[encoded data removed]",
      "text/plain": [
       "<Figure size 1166.4x648 with 6 Axes>"
      ]
     },
     "metadata": {},
     "output_type": "display_data"
    }
   ],
   "source": [
    "# creo FacetGrid\n",
    "g = sns.catplot(kind = 'count', data = kills, col = 'Age_Group', x = 'race', col_wrap= 3, height = 4.5, aspect = 1.2, edgecolor = 'black', order = ['W', 'B', 'A', 'H', 'N', 'O'])\n",
    "\n",
    "# modifico elementi del grafico\n",
    "g.set(xticklabels = ['Whites', 'Blacks', 'Asians', 'Hispanics', 'Natives', 'Others'], xlabel = 'Race', ylabel = 'Count')\n",
    "\n",
    "# mostro il grafico \n",
    "plt.show()"
   ]
  },
  {
   "cell_type": "markdown",
   "metadata": {},
   "source": [
    "Nella quasi totalità delle fasce d'età la razza che conta il più alto numero di vittime sono i bianchi, anche in virtù di una loro maggiore presenza all'interno della popolazione. Spicca però un fatto interessate: tra i 19 e i 30 anni il numero di vittime nere quasi pareggia quello di bianchi uccisi. Ciò potrebbe essere dovuto a due diversi scenari:\n",
    "\n",
    "1. La quota di afroamericani nella popolazione totale è sensibilmente più alta per quella specifica fascia di età, e quindi il maggior numero di vittime è una conseguenza \"statistica\" di questo fatto.\n",
    "2. Una propensione delle persone di colore a commettere più crimini tra i 19 e i 30 anni, magari spinte da altri fattori rilevanti come una condizione di povertà più diffusa o un più basso livello di istruzione.\n",
    "\n",
    "Sebbene i dati a disposizione siano nettamente inferiori, questa \"anomalia\" sembra valere anche per la fascia 0-18 anni, dove il numero di neri uccisi addirittura supera quello dei bianchi.\n",
    "\n",
    "Dal momento che questo fenomeno merita di essere ulteriormente approfondito, di seguito verrà studiata la composizione della popolazione americana lungo le varie fasce d'età."
   ]
  },
  {
   "cell_type": "markdown",
   "metadata": {
    "_cell_guid": "2b9d4ff0-4374-4c35-9f10-a29f0ae18a35",
    "_uuid": "08c03282-f32b-48cf-a456-420066acd8b8"
   },
   "source": [
    "---"
   ]
  },
  {
   "cell_type": "markdown",
   "metadata": {
    "_cell_guid": "493eca0d-eb43-46fd-9b17-1e6fa36efdc4",
    "_uuid": "300503ea-7270-4118-a0c1-9fa844dc8279"
   },
   "source": [
    "# Correlazione con reddito, livello di povertà e educazione"
   ]
  },
  {
   "cell_type": "code",
   "execution_count": 52,
   "metadata": {
    "_cell_guid": "c44c901e-2592-43a4-9186-8e7d28ed1740",
    "_uuid": "d58fce56-ff4e-45a3-b2ae-aed6a3c0a519",
    "jupyter": {
     "outputs_hidden": false
    }
   },
   "outputs": [],
   "source": [
    "# creo un data frame con i vari fattori\n",
    "factors = incomes.merge(poverty_level, on = ['Geographic Area','City']).merge(education, on = ['Geographic Area','City'])\n",
    "\n",
    "# converto in float colonne con tasso di povertà, reddito mediano e percentuale di completamento high school\n",
    "factors.loc[:,'Median Income':'percent_completed_hs'] = factors.loc[:,'Median Income':'percent_completed_hs'].replace({'(X)':np.nan, '-':np.nan, '2,500-':'2500', '250,000+':'250000'}).astype(float)\n",
    "\n",
    "# rinomino colonne\n",
    "factors = factors.rename(columns = {'Geographic Area':'state','City':'city'})\n",
    "\n",
    "# modifico i nomi delle città\n",
    "factors.city = factors.city.apply(lambda city: name_cleaner(city))"
   ]
  },
  {
   "cell_type": "code",
   "execution_count": 53,
   "metadata": {
    "_cell_guid": "c44c901e-2592-43a4-9186-8e7d28ed1740",
    "_uuid": "d58fce56-ff4e-45a3-b2ae-aed6a3c0a519",
    "jupyter": {
     "outputs_hidden": false
    }
   },
   "outputs": [
    {
     "data": {
      "text/html": [
       "<div>\n",
       "<style scoped>\n",
       "    .dataframe tbody tr th:only-of-type {\n",
       "        vertical-align: middle;\n",
       "    }\n",
       "\n",
       "    .dataframe tbody tr th {\n",
       "        vertical-align: top;\n",
       "    }\n",
       "\n",
       "    .dataframe thead th {\n",
       "        text-align: right;\n",
       "    }\n",
       "</style>\n",
       "<table border=\"1\" class=\"dataframe\">\n",
       "  <thead>\n",
       "    <tr style=\"text-align: right;\">\n",
       "      <th></th>\n",
       "      <th>state</th>\n",
       "      <th>city</th>\n",
       "      <th>kills</th>\n",
       "      <th>Median Income</th>\n",
       "      <th>poverty_rate</th>\n",
       "      <th>percent_completed_hs</th>\n",
       "      <th>population</th>\n",
       "      <th>lat</th>\n",
       "      <th>lng</th>\n",
       "    </tr>\n",
       "  </thead>\n",
       "  <tbody>\n",
       "    <tr>\n",
       "      <th>0</th>\n",
       "      <td>AK</td>\n",
       "      <td>Anchor Point</td>\n",
       "      <td>1</td>\n",
       "      <td>51591.0</td>\n",
       "      <td>10.1</td>\n",
       "      <td>93.8</td>\n",
       "      <td>2057</td>\n",
       "      <td>59.7703</td>\n",
       "      <td>-151.7052</td>\n",
       "    </tr>\n",
       "    <tr>\n",
       "      <th>1</th>\n",
       "      <td>AK</td>\n",
       "      <td>Barrow</td>\n",
       "      <td>1</td>\n",
       "      <td>76902.0</td>\n",
       "      <td>11.7</td>\n",
       "      <td>84.6</td>\n",
       "      <td>4178</td>\n",
       "      <td>NaN</td>\n",
       "      <td>NaN</td>\n",
       "    </tr>\n",
       "    <tr>\n",
       "      <th>2</th>\n",
       "      <td>AK</td>\n",
       "      <td>Copper Center</td>\n",
       "      <td>1</td>\n",
       "      <td>39063.0</td>\n",
       "      <td>18.8</td>\n",
       "      <td>84.8</td>\n",
       "      <td>397</td>\n",
       "      <td>61.9845</td>\n",
       "      <td>-145.3544</td>\n",
       "    </tr>\n",
       "    <tr>\n",
       "      <th>3</th>\n",
       "      <td>AK</td>\n",
       "      <td>Fairbanks</td>\n",
       "      <td>10</td>\n",
       "      <td>55229.0</td>\n",
       "      <td>13.1</td>\n",
       "      <td>91.2</td>\n",
       "      <td>64732</td>\n",
       "      <td>64.8353</td>\n",
       "      <td>-147.6534</td>\n",
       "    </tr>\n",
       "    <tr>\n",
       "      <th>4</th>\n",
       "      <td>AK</td>\n",
       "      <td>Houston</td>\n",
       "      <td>1</td>\n",
       "      <td>50438.0</td>\n",
       "      <td>14.8</td>\n",
       "      <td>90.2</td>\n",
       "      <td>2347</td>\n",
       "      <td>61.6159</td>\n",
       "      <td>-149.8003</td>\n",
       "    </tr>\n",
       "  </tbody>\n",
       "</table>\n",
       "</div>"
      ],
      "text/plain": [
       "  state           city  kills  Median Income  poverty_rate  \\\n",
       "0    AK   Anchor Point      1        51591.0          10.1   \n",
       "1    AK         Barrow      1        76902.0          11.7   \n",
       "2    AK  Copper Center      1        39063.0          18.8   \n",
       "3    AK      Fairbanks     10        55229.0          13.1   \n",
       "4    AK        Houston      1        50438.0          14.8   \n",
       "\n",
       "   percent_completed_hs  population      lat       lng  \n",
       "0                  93.8        2057  59.7703 -151.7052  \n",
       "1                  84.6        4178      NaN       NaN  \n",
       "2                  84.8         397  61.9845 -145.3544  \n",
       "3                  91.2       64732  64.8353 -147.6534  \n",
       "4                  90.2        2347  61.6159 -149.8003  "
      ]
     },
     "execution_count": 53,
     "metadata": {},
     "output_type": "execute_result"
    }
   ],
   "source": [
    "# creo un dataframe con le morti per ogni ciità\n",
    "kills_by_city = kills.groupby(['state','city']).size().to_frame().rename(columns = {0:'kills'})\n",
    "\n",
    "# lo unisco a factors\n",
    "kills_by_city_factors = kills_by_city.merge(factors, on =['state','city']).merge(pop, on =['state','city'])\n",
    "\n",
    "# stampo il nuovo dataframe\n",
    "kills_by_city_factors.head(5)"
   ]
  },
  {
   "cell_type": "code",
   "execution_count": 54,
   "metadata": {},
   "outputs": [
    {
     "data": {
      "image/png": "[encoded data removed]",
      "text/plain": [
       "<Figure size 950.4x950.4 with 20 Axes>"
      ]
     },
     "metadata": {},
     "output_type": "display_data"
    }
   ],
   "source": [
    "# aumento la dimensione del testo\n",
    "sns.set(font_scale = 1.2)\n",
    "\n",
    "# creo un pariplot\n",
    "g = sns.PairGrid(kills_by_city_factors.loc[:,:'percent_completed_hs'], height = 3.3)\n",
    "# imposto grafici sulla diagonale\n",
    "g.map_diag(sns.histplot, bins = 20)\n",
    "# imposto grafici fuori dalla diagonale\n",
    "g.map_offdiag(sns.scatterplot)\n",
    "\n",
    "# aggiungo il titolo della figura\n",
    "g.fig.suptitle('correlation between factors', y = 1.02, fontsize = 16)\n",
    "\n",
    "plt.show()"
   ]
  },
  {
   "cell_type": "markdown",
   "metadata": {},
   "source": [
    "Da questo pairplot emerge una correlazione negativa abbastanza forte tra il tasso di povertà della popolazione e la percentuale di over 25 che hanno completato la high school. Ovviamente il grafico denota anche una relazione di proporzionalità inversa tra il reddito mediano e il tasso di povertà.\n",
    "\n",
    "In molte città con un basso reddito mediano si verifica un alto numero di uccisioni: sintomo che in molti casi è la povertà che spinge le vittime a commettere crimini. \n",
    "\n",
    "Ciò che sorprende è il grande numero di uccisioni in città con percentuali di completamento dell'high school alte e poverty rate bassi: questo può essere dovuto anche al grande numero di abitanti di queste città. Per ovviare al probelma, di seguito approfondiremo l'analisi di quesi casi utilizzando il numero di uccisioni ogni 10mila abitanti. Per ottenere tassi attendibili prenderemo solamente campioni sufficientemente ampi, nel caso specifico città con più di 100mila abitanti."
   ]
  },
  {
   "cell_type": "code",
   "execution_count": 56,
   "metadata": {
    "jupyter": {
     "outputs_hidden": true
    }
   },
   "outputs": [
    {
     "data": {
      "application/vnd.plotly.v1+json": {
       "config": {
        "plotlyServerURL": "https://plotly.com"
       },
       "data": [
        {
         "hovertemplate": "<b>%{hovertext}</b><br><br>kills_rate=%{marker.color}<br>lat=%{lat}<br>lng=%{lon}<extra></extra>",
         "hovertext": [
          "Pueblo",
          "Redding",
          "Las Cruces",
          "Billings",
          "Westminster",
          "San Bernardino",
          "Lakewood",
          "Sparks",
          "Odessa",
          "Arvada",
          "Amarillo",
          "Vancouver",
          "Centennial",
          "Albuquerque",
          "Bakersfield",
          "Kansas City",
          "Greeley",
          "Tacoma",
          "Longview",
          "Glendale",
          "Tempe",
          "League City",
          "Eau Claire",
          "Mesa",
          "Santa Fe",
          "West Jordan",
          "Grand Junction",
          "Long Beach",
          "Tulsa",
          "Midland",
          "Aurora",
          "Ontario",
          "Hemet",
          "Renton",
          "Tucson",
          "Kent",
          "Greenville",
          "Rialto",
          "Shreveport",
          "Jurupa Valley",
          "Chico",
          "Hillsboro",
          "Hayward",
          "Inglewood",
          "North Charleston",
          "Gulfport",
          "Stockton",
          "Miami Gardens",
          "Charleston",
          "Houma",
          "Springfield",
          "Clearwater",
          "El Monte",
          "Oklahoma City",
          "Evansville",
          "Torrance",
          "Fremont",
          "Paterson",
          "Topeka",
          "Beaumont",
          "Pearland",
          "Henderson",
          "Santa Ana",
          "Spokane",
          "Scottsdale",
          "Palmdale",
          "Boulder",
          "Modesto",
          "Fresno",
          "Anaheim",
          "Lakeland",
          "Deltona",
          "Arlington",
          "Yakima",
          "Vacaville",
          "Medford",
          "Jacksonville",
          "Temple",
          "St. Paul",
          "Corpus Christi",
          "Huntsville",
          "Bend",
          "Wichita",
          "El Cajon",
          "Vallejo",
          "Yuma",
          "Columbia",
          "Burbank",
          "Spring Hill",
          "Norfolk",
          "Burbank",
          "Fullerton",
          "Fontana",
          "Newark",
          "Pasadena",
          "Fort Lauderdale",
          "Tallahassee",
          "Metairie",
          "San Antonio",
          "Pompano Beach",
          "Colorado Springs",
          "Salem",
          "Waco",
          "Temecula",
          "Abilene",
          "Sunnyvale",
          "Las Vegas",
          "Oakland",
          "Independence",
          "Garland",
          "Irving",
          "Savannah",
          "North Las Vegas",
          "Johnson City",
          "Reno",
          "Nampa",
          "Eugene",
          "Newport News",
          "Chattanooga",
          "Gastonia",
          "Carrollton",
          "Thornton",
          "Brownsville",
          "Clarksville",
          "Columbus",
          "Fayetteville",
          "Santa Maria",
          "Orange",
          "Visalia",
          "Phoenix",
          "Jackson",
          "Fort Worth",
          "Little Rock",
          "El Paso",
          "Allen",
          "Vista",
          "Chandler",
          "Escondido",
          "Pomona",
          "Montgomery",
          "Myrtle Beach",
          "Gainesville",
          "Laredo",
          "St. Petersburg",
          "Salisbury",
          "Norwalk",
          "Baton Rouge",
          "Roanoke",
          "Burlington",
          "Everett",
          "Richmond",
          "Clovis",
          "Ocala",
          "Gresham",
          "Coeur d'Alene",
          "Austin",
          "St. Cloud",
          "Lincoln",
          "Kansas City",
          "Kingsport",
          "High Point",
          "Saginaw",
          "Yuba City",
          "Round Rock",
          "Cedar Rapids",
          "Memphis",
          "Overland Park",
          "Mobile",
          "Santa Clara",
          "Omaha",
          "Columbus",
          "St. Louis",
          "North Port",
          "Racine",
          "Lubbock",
          "Denver",
          "Gainesville",
          "Surprise",
          "Huntington Beach",
          "Birmingham",
          "Warren",
          "Chula Vista",
          "Durham",
          "West Valley City",
          "Moreno Valley",
          "Olathe",
          "Pensacola",
          "Green Bay",
          "Miramar",
          "Toledo",
          "Lancaster",
          "Rockford",
          "Mesquite",
          "Mesquite",
          "Panama City",
          "Avondale",
          "Salt Lake City",
          "Elkhart",
          "Joliet",
          "Appleton",
          "Fort Collins",
          "Antioch",
          "Lake Charles",
          "Hollywood",
          "Tuscaloosa",
          "Kennewick",
          "Orlando",
          "Greenville",
          "Port Arthur",
          "Houston",
          "Lafayette",
          "Hialeah",
          "Akron",
          "Gilbert",
          "Atlantic City",
          "Manchester",
          "Milwaukee",
          "Syracuse",
          "Fort Wayne",
          "Wilmington",
          "San Jose",
          "Knoxville",
          "Baltimore",
          "Flint",
          "Corona",
          "Peoria",
          "Fayetteville",
          "Elk Grove",
          "Garden Grove",
          "Victorville",
          "Peoria",
          "Denton",
          "Oceanside",
          "Sioux Falls",
          "Spartanburg",
          "South Bend",
          "Plano",
          "Salinas",
          "Charlotte",
          "Sacramento",
          "Trenton",
          "Aurora",
          "Woodbridge",
          "Lancaster",
          "Logan",
          "Yonkers",
          "Indio",
          "Norwich",
          "Charlottesville",
          "La Crosse",
          "Columbia",
          "Portland",
          "Santa Clarita",
          "Highlands Ranch",
          "San Mateo",
          "Davie",
          "Sandy Springs",
          "Turlock",
          "Hickory",
          "West Covina",
          "Daly City",
          "Kalamazoo",
          "West Palm Beach",
          "Harrisburg",
          "Lowell",
          "Elgin",
          "Greensboro",
          "El Centro",
          "Downey",
          "Ogden",
          "New Orleans",
          "Monroe",
          "Dover",
          "Norman",
          "Arlington",
          "Gilroy",
          "Lehigh Acres",
          "York",
          "Seaside",
          "Dayton",
          "Chesapeake",
          "Des Moines",
          "Palm Bay",
          "Killeen",
          "East Los Angeles",
          "Lynchburg",
          "Kenosha",
          "Fort Smith",
          "Burlington",
          "Bellingham",
          "Los Angeles",
          "Stamford",
          "Coral Springs",
          "Lafayette",
          "Reading",
          "Hampton",
          "Jersey City",
          "Rochester",
          "Davenport",
          "Port St. Lucie",
          "Merced",
          "Fairfield",
          "Madison",
          "Richmond",
          "Frederick",
          "San Diego",
          "Pasadena",
          "Springfield",
          "Alexandria",
          "Lansing",
          "Fredericksburg",
          "Cary",
          "Marysville",
          "Santa Cruz",
          "Danbury",
          "Virginia Beach",
          "Miami",
          "Erie",
          "Huntington",
          "Cleveland",
          "Grand Prairie",
          "Waterbury",
          "Atlanta",
          "Olympia",
          "Chicago",
          "Tampa",
          "Santa Barbara",
          "Raleigh",
          "Portland",
          "Glendale",
          "Cape Coral",
          "Winston-Salem",
          "Detroit",
          "Bremerton",
          "San Francisco",
          "Allentown",
          "McKinney",
          "Cincinnati",
          "Seattle",
          "Winter Haven",
          "Philadelphia",
          "Provo",
          "Riverside",
          "Canton",
          "Irvine",
          "Hartford",
          "Charleston",
          "Buffalo",
          "Asheville",
          "Concord",
          "Santa Rosa",
          "Islip",
          "Pittsburgh",
          "Minneapolis",
          "Oxnard",
          "Dallas",
          "Murrieta",
          "Columbia",
          "Albany",
          "Boston",
          "Grand Rapids",
          "Sarasota",
          "Bridgeport",
          "Providence",
          "Roseville",
          "Leesburg"
         ],
         "lat": [
          38.2713,
          40.5698,
          32.3265,
          45.7889,
          39.8837,
          34.1417,
          39.6977,
          39.5729,
          31.8831,
          39.8321,
          35.1989,
          45.6367,
          39.5926,
          35.1053,
          35.353,
          39.1234,
          40.4151,
          47.2431,
          32.5192,
          33.5797,
          33.3881,
          29.4874,
          44.82,
          33.4017,
          35.6619,
          40.6024,
          39.0877,
          33.798,
          36.1284,
          32.0249,
          39.7084,
          34.0393,
          33.7341,
          47.4758,
          32.1545,
          47.3887,
          35.5956,
          34.1175,
          32.4659,
          34.001,
          39.7575,
          45.5272,
          37.6328,
          33.9566,
          32.9067,
          30.4271,
          37.9766,
          25.9433,
          38.3484,
          29.5799,
          37.1943,
          27.9788,
          34.0739,
          35.4676,
          37.9881,
          33.8346,
          37.5265,
          40.9147,
          39.0346,
          30.085,
          29.5585,
          36.0146,
          33.7366,
          47.6671,
          33.6872,
          34.5944,
          40.0249,
          37.6374,
          36.7831,
          33.839,
          28.0557,
          28.905,
          32.6998,
          46.5923,
          38.359,
          42.3372,
          30.3322,
          31.1076,
          44.9477,
          27.7261,
          34.6988,
          44.0562,
          37.6897,
          32.8017,
          38.1133,
          32.5991,
          38.9477,
          34.1879,
          28.4797,
          36.8945,
          34.1879,
          33.8841,
          34.0968,
          40.7245,
          34.1597,
          26.1412,
          30.4551,
          29.9976,
          29.4658,
          26.2428,
          38.8674,
          44.9232,
          31.5597,
          33.4928,
          32.4543,
          37.3836,
          36.2333,
          37.7903,
          39.0871,
          32.91,
          32.8584,
          32.0281,
          36.288,
          36.3406,
          39.5497,
          43.5843,
          44.0563,
          37.1051,
          35.0657,
          35.2494,
          32.989,
          39.9205,
          25.998,
          36.5696,
          39.986,
          35.0846,
          34.9333,
          33.8038,
          36.3276,
          33.5722,
          32.3163,
          32.7812,
          34.7255,
          31.8479,
          33.1088,
          33.1896,
          33.2827,
          33.1347,
          34.0585,
          32.3473,
          33.7096,
          34.2902,
          27.5617,
          27.793,
          38.3755,
          33.9069,
          30.4419,
          37.2785,
          44.4877,
          47.9524,
          37.9477,
          36.8277,
          29.178,
          45.5023,
          47.704,
          30.3006,
          45.5339,
          40.8088,
          39.1239,
          36.5224,
          35.9905,
          43.4199,
          39.1357,
          30.5254,
          41.9667,
          35.1046,
          38.887,
          30.6782,
          37.3646,
          41.2628,
          32.51,
          38.6358,
          27.0577,
          42.7274,
          33.5642,
          39.7621,
          29.6804,
          33.68,
          33.696,
          33.5277,
          42.4934,
          32.6281,
          35.9795,
          40.6889,
          33.9244,
          38.8832,
          30.4427,
          44.515,
          25.9773,
          41.6639,
          34.6934,
          42.2598,
          32.7623,
          32.7623,
          30.1995,
          33.3858,
          40.7774,
          41.6912,
          41.5189,
          44.2774,
          40.5475,
          37.9789,
          30.2022,
          26.0294,
          33.2348,
          46.1979,
          28.4772,
          34.8362,
          29.8554,
          29.7869,
          40.399,
          25.8696,
          41.0798,
          33.3103,
          39.3797,
          42.9848,
          43.0642,
          43.0409,
          41.0885,
          34.2101,
          37.3021,
          35.9692,
          39.3051,
          43.0235,
          33.862,
          33.7844,
          36.0713,
          38.416,
          33.7787,
          34.5277,
          40.7521,
          33.2176,
          33.2247,
          43.5397,
          34.9437,
          41.6771,
          33.0502,
          36.6884,
          35.2079,
          38.5667,
          40.2236,
          41.7637,
          null,
          40.042,
          41.74,
          40.9466,
          33.7346,
          41.5495,
          38.0375,
          43.8241,
          39.2004,
          45.5371,
          34.4155,
          39.5419,
          37.5522,
          26.0789,
          33.9366,
          37.5053,
          35.7426,
          34.0555,
          37.6863,
          42.2749,
          26.7469,
          40.2752,
          42.6389,
          42.0385,
          36.0956,
          32.7867,
          33.9379,
          41.228,
          30.0687,
          32.5183,
          39.161,
          35.2335,
          38.8786,
          37.0047,
          26.612,
          39.9651,
          36.6224,
          39.7797,
          36.6778,
          41.5725,
          27.955,
          31.0755,
          34.0326,
          37.4003,
          42.5864,
          35.3493,
          36.0762,
          48.7543,
          34.1139,
          41.1035,
          26.2702,
          30.2084,
          40.34,
          37.0551,
          40.7161,
          43.168,
          41.5563,
          27.2796,
          37.3057,
          38.2594,
          43.0827,
          37.5295,
          39.4336,
          32.8312,
          29.6584,
          39.771,
          38.8185,
          42.7142,
          38.2992,
          35.7817,
          48.081,
          36.9789,
          41.4016,
          36.7335,
          25.7839,
          42.1168,
          38.4109,
          41.4767,
          32.687,
          41.5583,
          33.7627,
          47.0417,
          41.8373,
          27.9942,
          34.4285,
          35.8324,
          43.6773,
          34.1818,
          26.6445,
          36.1029,
          42.3834,
          47.5436,
          37.7562,
          40.5961,
          33.2016,
          39.1412,
          47.6211,
          28.0118,
          40.0077,
          40.2457,
          33.9381,
          40.8076,
          33.6772,
          41.7661,
          32.8151,
          42.9017,
          35.5704,
          37.9722,
          38.4458,
          null,
          40.4396,
          44.9635,
          34.1962,
          32.7936,
          33.572,
          34.0376,
          42.6664,
          42.3188,
          42.9615,
          27.3386,
          41.1918,
          41.823,
          38.7691,
          28.7658
         ],
         "legendgroup": "",
         "lon": [
          -104.6105,
          -122.365,
          -106.7893,
          -108.5509,
          -105.0624,
          -117.2945,
          -105.1168,
          -119.7157,
          -102.3406,
          -105.1511,
          -101.831,
          -122.597,
          -104.8674,
          -106.6464,
          -119.0359,
          -94.7443,
          -104.7705,
          -122.4531,
          -94.7622,
          -112.2258,
          -111.9318,
          -95.1087,
          -91.4951,
          -111.7181,
          -105.9819,
          -112.0008,
          -108.5673,
          -118.1675,
          -95.9043,
          -102.1137,
          -104.7274,
          -117.6064,
          -116.9969,
          -122.1905,
          -110.8782,
          -122.2128,
          -77.3768,
          -117.3894,
          -93.7959,
          -117.4706,
          -121.8152,
          -122.936,
          -122.0772,
          -118.3444,
          -80.0722,
          -89.0703,
          -121.3111,
          -80.2426,
          -81.6323,
          -90.7058,
          -93.2915,
          -82.7624,
          -118.0291,
          -97.5137,
          -87.5341,
          -118.3417,
          -121.9852,
          -74.1624,
          -95.6955,
          -94.1451,
          -95.3215,
          -115.0362,
          -117.8819,
          -117.433,
          -111.8651,
          -118.1057,
          -105.2523,
          -121.0028,
          -119.7941,
          -117.8573,
          -81.9545,
          -81.2136,
          -97.1251,
          -120.5496,
          -121.968,
          -122.8537,
          -81.6749,
          -97.3894,
          -93.104,
          -97.3755,
          -86.6412,
          -121.3087,
          -97.3441,
          -116.9604,
          -122.2359,
          -114.5488,
          -92.3255,
          -118.3235,
          -82.53,
          -76.259,
          -118.3235,
          -117.9279,
          -117.4599,
          -74.1725,
          -118.139,
          -80.1464,
          -84.2527,
          -90.1781,
          -98.5254,
          -80.1312,
          -104.7606,
          -123.0245,
          -97.1882,
          -117.1315,
          -99.7384,
          -122.0257,
          -115.2654,
          -122.2165,
          -94.3503,
          -96.6305,
          -96.9702,
          -81.1785,
          -115.0901,
          -82.3803,
          -119.8483,
          -116.5628,
          -123.1173,
          -76.5185,
          -85.2487,
          -81.1853,
          -96.8999,
          -104.9443,
          -97.4565,
          -87.3428,
          -82.9851,
          -78.9776,
          -120.4432,
          -117.8218,
          -119.3269,
          -112.0891,
          -90.2124,
          -97.3472,
          -92.358,
          -106.4309,
          -96.6735,
          -117.2386,
          -111.8517,
          -117.0723,
          -117.7626,
          -86.2666,
          -78.8842,
          -83.8303,
          -99.4874,
          -82.6652,
          -75.5867,
          -118.0829,
          -91.131,
          -79.958,
          -73.2314,
          -122.167,
          -122.339,
          -119.6838,
          -82.1511,
          -122.4413,
          -116.7933,
          -97.7517,
          -94.1718,
          -96.6796,
          -94.5541,
          -82.5452,
          -79.9937,
          -83.9501,
          -121.6381,
          -97.6659,
          -91.6781,
          -89.9773,
          -94.687,
          -88.1163,
          -121.968,
          -96.0498,
          -84.8771,
          -90.2451,
          -82.1975,
          -87.8135,
          -101.8871,
          -104.8759,
          -82.3458,
          -112.4524,
          -118.0025,
          -86.7987,
          -83.027,
          -117.0145,
          -78.9032,
          -112.0115,
          -117.2045,
          -94.8198,
          -87.1886,
          -87.9896,
          -80.3351,
          -83.5822,
          -118.1753,
          -89.0641,
          -96.5889,
          -96.5889,
          -85.6003,
          -112.3236,
          -111.93,
          -85.962,
          -88.1499,
          -88.3894,
          -105.0651,
          -121.7957,
          -93.2141,
          -80.1679,
          -87.5266,
          -119.1732,
          -81.3369,
          -82.3649,
          -93.9264,
          -95.3905,
          -86.8593,
          -80.3046,
          -81.5219,
          -111.7463,
          -74.4527,
          -71.4447,
          -87.9673,
          -76.1438,
          -85.1436,
          -77.886,
          -121.8489,
          -83.9496,
          -76.6144,
          -83.6922,
          -117.5641,
          -112.299,
          -94.166,
          -121.384,
          -117.9601,
          -117.3536,
          -89.6155,
          -97.1419,
          -117.3083,
          -96.7321,
          -81.9256,
          -86.2692,
          -96.7487,
          -121.6317,
          -80.8304,
          -121.4683,
          -74.7641,
          -88.2901,
          null,
          -76.3012,
          -111.8419,
          -73.8674,
          -116.2346,
          -72.0882,
          -78.4855,
          -91.2268,
          -76.859,
          -122.65,
          -118.4992,
          -104.9708,
          -122.3122,
          -80.287,
          -84.3703,
          -120.8587,
          -81.323,
          -117.9112,
          -122.4684,
          -85.5882,
          -80.1316,
          -76.8843,
          -71.3217,
          -88.3229,
          -79.8268,
          -115.5586,
          -118.1312,
          -111.9677,
          -89.9288,
          -92.0775,
          -75.5203,
          -97.3471,
          -77.1011,
          -121.5856,
          -81.6388,
          -76.7315,
          -121.8191,
          -84.1998,
          -76.3024,
          -93.6105,
          -80.6628,
          -97.7297,
          -118.1691,
          -79.1909,
          -87.8762,
          -94.3695,
          -79.4687,
          -122.4687,
          -118.4068,
          -73.5583,
          -80.2591,
          -92.0323,
          -75.9267,
          -76.3629,
          -74.0683,
          -77.6162,
          -90.6052,
          -80.3884,
          -120.4779,
          -122.0319,
          -89.3923,
          -77.4756,
          -77.4157,
          -117.1225,
          -95.1499,
          -89.6537,
          -77.0861,
          -84.5601,
          -77.4872,
          -78.8175,
          -122.1558,
          -122.0346,
          -73.471,
          -76.0435,
          -80.2102,
          -80.0733,
          -82.4344,
          -81.6805,
          -97.0209,
          -73.0361,
          -84.4225,
          -122.8959,
          -87.6862,
          -82.4451,
          -119.7202,
          -78.6438,
          -70.2715,
          -118.2468,
          -81.9955,
          -80.261,
          -83.1024,
          -122.7121,
          -122.443,
          -75.4755,
          -96.6669,
          -84.506,
          -122.3244,
          -81.7017,
          -75.1339,
          -111.6457,
          -117.3948,
          -81.3678,
          -117.7738,
          -72.6834,
          -79.963,
          -78.8487,
          -82.5537,
          -122.0016,
          -122.7067,
          null,
          -79.9763,
          -93.2678,
          -119.1819,
          -96.7662,
          -117.1909,
          -80.9037,
          -73.7987,
          -71.0846,
          -85.6557,
          -82.543,
          -73.1953,
          -71.4187,
          -121.3178,
          -81.8995
         ],
         "marker": {
          "color": [
           1.264,
           1.081,
           1.045,
           0.993,
           0.798,
           0.783,
           0.774,
           0.694,
           0.609,
           0.589,
           0.582,
           0.569,
           0.544,
           0.541,
           0.54,
           0.523,
           0.523,
           0.515,
           0.499,
           0.486,
           0.486,
           0.477,
           0.467,
           0.463,
           0.454,
           0.439,
           0.439,
           0.426,
           0.417,
           0.416,
           0.409,
           0.398,
           0.396,
           0.395,
           0.392,
           0.389,
           0.389,
           0.386,
           0.383,
           0.377,
           0.376,
           0.374,
           0.374,
           0.362,
           0.361,
           0.361,
           0.355,
           0.352,
           0.35,
           0.35,
           0.348,
           0.346,
           0.345,
           0.345,
           0.344,
           0.341,
           0.34,
           0.336,
           0.336,
           0.336,
           0.334,
           0.331,
           0.329,
           0.323,
           0.32,
           0.317,
           0.317,
           0.315,
           0.315,
           0.312,
           0.309,
           0.309,
           0.303,
           0.3,
           0.298,
           0.297,
           0.294,
           0.294,
           0.294,
           0.293,
           0.291,
           0.29,
           0.29,
           0.289,
           0.288,
           0.288,
           0.286,
           0.286,
           0.286,
           0.286,
           0.286,
           0.285,
           0.283,
           0.281,
           0.28,
           0.278,
           0.277,
           0.276,
           0.275,
           0.272,
           0.272,
           0.269,
           0.265,
           0.262,
           0.261,
           0.26,
           0.26,
           0.259,
           0.256,
           0.252,
           0.25,
           0.25,
           0.247,
           0.237,
           0.231,
           0.23,
           0.224,
           0.223,
           0.221,
           0.221,
           0.221,
           0.219,
           0.219,
           0.219,
           0.216,
           0.216,
           0.214,
           0.213,
           0.213,
           0.208,
           0.207,
           0.206,
           0.203,
           0.201,
           0.199,
           0.197,
           0.197,
           0.197,
           0.196,
           0.195,
           0.192,
           0.192,
           0.192,
           0.19,
           0.189,
           0.189,
           0.188,
           0.185,
           0.185,
           0.182,
           0.182,
           0.182,
           0.182,
           0.18,
           0.177,
           0.177,
           0.175,
           0.175,
           0.173,
           0.169,
           0.169,
           0.168,
           0.166,
           0.162,
           0.161,
           0.159,
           0.157,
           0.157,
           0.157,
           0.157,
           0.154,
           0.154,
           0.153,
           0.152,
           0.152,
           0.151,
           0.15,
           0.149,
           0.149,
           0.148,
           0.148,
           0.148,
           0.147,
           0.147,
           0.145,
           0.145,
           0.145,
           0.144,
           0.143,
           0.143,
           0.143,
           0.14,
           0.139,
           0.139,
           0.138,
           0.138,
           0.137,
           0.135,
           0.135,
           0.135,
           0.132,
           0.132,
           0.13,
           0.13,
           0.13,
           0.129,
           0.129,
           0.128,
           0.127,
           0.127,
           0.126,
           0.125,
           0.124,
           0.124,
           0.124,
           0.124,
           0.123,
           0.123,
           0.122,
           0.122,
           0.121,
           0.12,
           0.12,
           0.119,
           0.119,
           0.119,
           0.117,
           0.116,
           0.115,
           0.115,
           0.114,
           0.114,
           0.114,
           0.111,
           0.109,
           0.107,
           0.105,
           0.103,
           0.102,
           0.102,
           0.101,
           0.1,
           0.1,
           0.099,
           0.099,
           0.099,
           0.098,
           0.098,
           0.098,
           0.098,
           0.097,
           0.097,
           0.097,
           0.095,
           0.095,
           0.095,
           0.094,
           0.093,
           0.093,
           0.093,
           0.093,
           0.093,
           0.091,
           0.091,
           0.09,
           0.089,
           0.089,
           0.089,
           0.088,
           0.087,
           0.087,
           0.087,
           0.087,
           0.087,
           0.087,
           0.086,
           0.086,
           0.085,
           0.085,
           0.084,
           0.083,
           0.083,
           0.082,
           0.081,
           0.081,
           0.08,
           0.08,
           0.08,
           0.079,
           0.079,
           0.078,
           0.076,
           0.075,
           0.075,
           0.075,
           0.074,
           0.074,
           0.07,
           0.07,
           0.069,
           0.069,
           0.068,
           0.068,
           0.066,
           0.065,
           0.065,
           0.065,
           0.063,
           0.062,
           0.062,
           0.061,
           0.06,
           0.06,
           0.056,
           0.056,
           0.054,
           0.053,
           0.053,
           0.052,
           0.052,
           0.052,
           0.052,
           0.052,
           0.051,
           0.05,
           0.05,
           0.049,
           0.049,
           0.049,
           0.049,
           0.048,
           0.048,
           0.048,
           0.046,
           0.044,
           0.044,
           0.043,
           0.042,
           0.041,
           0.041,
           0.041,
           0.04,
           0.038,
           0.037,
           0.036,
           0.033,
           0.032,
           0.032,
           0.032,
           0.031,
           0.031,
           0.03,
           0.029,
           0.027,
           0.026,
           0.026,
           0.021,
           0.018,
           0.017,
           0.017,
           0.017,
           0.014,
           0.011,
           0.008,
           0,
           0
          ],
          "coloraxis": "coloraxis",
          "size": [
           1.264,
           1.081,
           1.045,
           0.993,
           0.798,
           0.783,
           0.774,
           0.694,
           0.609,
           0.589,
           0.582,
           0.569,
           0.544,
           0.541,
           0.54,
           0.523,
           0.523,
           0.515,
           0.499,
           0.486,
           0.486,
           0.477,
           0.467,
           0.463,
           0.454,
           0.439,
           0.439,
           0.426,
           0.417,
           0.416,
           0.409,
           0.398,
           0.396,
           0.395,
           0.392,
           0.389,
           0.389,
           0.386,
           0.383,
           0.377,
           0.376,
           0.374,
           0.374,
           0.362,
           0.361,
           0.361,
           0.355,
           0.352,
           0.35,
           0.35,
           0.348,
           0.346,
           0.345,
           0.345,
           0.344,
           0.341,
           0.34,
           0.336,
           0.336,
           0.336,
           0.334,
           0.331,
           0.329,
           0.323,
           0.32,
           0.317,
           0.317,
           0.315,
           0.315,
           0.312,
           0.309,
           0.309,
           0.303,
           0.3,
           0.298,
           0.297,
           0.294,
           0.294,
           0.294,
           0.293,
           0.291,
           0.29,
           0.29,
           0.289,
           0.288,
           0.288,
           0.286,
           0.286,
           0.286,
           0.286,
           0.286,
           0.285,
           0.283,
           0.281,
           0.28,
           0.278,
           0.277,
           0.276,
           0.275,
           0.272,
           0.272,
           0.269,
           0.265,
           0.262,
           0.261,
           0.26,
           0.26,
           0.259,
           0.256,
           0.252,
           0.25,
           0.25,
           0.247,
           0.237,
           0.231,
           0.23,
           0.224,
           0.223,
           0.221,
           0.221,
           0.221,
           0.219,
           0.219,
           0.219,
           0.216,
           0.216,
           0.214,
           0.213,
           0.213,
           0.208,
           0.207,
           0.206,
           0.203,
           0.201,
           0.199,
           0.197,
           0.197,
           0.197,
           0.196,
           0.195,
           0.192,
           0.192,
           0.192,
           0.19,
           0.189,
           0.189,
           0.188,
           0.185,
           0.185,
           0.182,
           0.182,
           0.182,
           0.182,
           0.18,
           0.177,
           0.177,
           0.175,
           0.175,
           0.173,
           0.169,
           0.169,
           0.168,
           0.166,
           0.162,
           0.161,
           0.159,
           0.157,
           0.157,
           0.157,
           0.157,
           0.154,
           0.154,
           0.153,
           0.152,
           0.152,
           0.151,
           0.15,
           0.149,
           0.149,
           0.148,
           0.148,
           0.148,
           0.147,
           0.147,
           0.145,
           0.145,
           0.145,
           0.144,
           0.143,
           0.143,
           0.143,
           0.14,
           0.139,
           0.139,
           0.138,
           0.138,
           0.137,
           0.135,
           0.135,
           0.135,
           0.132,
           0.132,
           0.13,
           0.13,
           0.13,
           0.129,
           0.129,
           0.128,
           0.127,
           0.127,
           0.126,
           0.125,
           0.124,
           0.124,
           0.124,
           0.124,
           0.123,
           0.123,
           0.122,
           0.122,
           0.121,
           0.12,
           0.12,
           0.119,
           0.119,
           0.119,
           0.117,
           0.116,
           0.115,
           0.115,
           0.114,
           0.114,
           0.114,
           0.111,
           0.109,
           0.107,
           0.105,
           0.103,
           0.102,
           0.102,
           0.101,
           0.1,
           0.1,
           0.099,
           0.099,
           0.099,
           0.098,
           0.098,
           0.098,
           0.098,
           0.097,
           0.097,
           0.097,
           0.095,
           0.095,
           0.095,
           0.094,
           0.093,
           0.093,
           0.093,
           0.093,
           0.093,
           0.091,
           0.091,
           0.09,
           0.089,
           0.089,
           0.089,
           0.088,
           0.087,
           0.087,
           0.087,
           0.087,
           0.087,
           0.087,
           0.086,
           0.086,
           0.085,
           0.085,
           0.084,
           0.083,
           0.083,
           0.082,
           0.081,
           0.081,
           0.08,
           0.08,
           0.08,
           0.079,
           0.079,
           0.078,
           0.076,
           0.075,
           0.075,
           0.075,
           0.074,
           0.074,
           0.07,
           0.07,
           0.069,
           0.069,
           0.068,
           0.068,
           0.066,
           0.065,
           0.065,
           0.065,
           0.063,
           0.062,
           0.062,
           0.061,
           0.06,
           0.06,
           0.056,
           0.056,
           0.054,
           0.053,
           0.053,
           0.052,
           0.052,
           0.052,
           0.052,
           0.052,
           0.051,
           0.05,
           0.05,
           0.049,
           0.049,
           0.049,
           0.049,
           0.048,
           0.048,
           0.048,
           0.046,
           0.044,
           0.044,
           0.043,
           0.042,
           0.041,
           0.041,
           0.041,
           0.04,
           0.038,
           0.037,
           0.036,
           0.033,
           0.032,
           0.032,
           0.032,
           0.031,
           0.031,
           0.03,
           0.029,
           0.027,
           0.026,
           0.026,
           0.021,
           0.018,
           0.017,
           0.017,
           0.017,
           0.014,
           0.011,
           0.008,
           0,
           0
          ],
          "sizemode": "area",
          "sizeref": 0.00316
         },
         "mode": "markers",
         "name": "",
         "showlegend": false,
         "subplot": "mapbox",
         "type": "scattermapbox"
        }
       ],
       "layout": {
        "coloraxis": {
         "colorbar": {
          "title": {
           "text": "kills_rate"
          }
         },
         "colorscale": [
          [
           0,
           "rgb(253, 237, 176)"
          ],
          [
           0.09090909090909091,
           "rgb(250, 205, 145)"
          ],
          [
           0.18181818181818182,
           "rgb(246, 173, 119)"
          ],
          [
           0.2727272727272727,
           "rgb(240, 142, 98)"
          ],
          [
           0.36363636363636365,
           "rgb(231, 109, 84)"
          ],
          [
           0.45454545454545453,
           "rgb(216, 80, 83)"
          ],
          [
           0.5454545454545454,
           "rgb(195, 56, 90)"
          ],
          [
           0.6363636363636364,
           "rgb(168, 40, 96)"
          ],
          [
           0.7272727272727273,
           "rgb(138, 29, 99)"
          ],
          [
           0.8181818181818182,
           "rgb(107, 24, 93)"
          ],
          [
           0.9090909090909091,
           "rgb(76, 21, 80)"
          ],
          [
           1,
           "rgb(47, 15, 61)"
          ]
         ]
        },
        "height": 500,
        "legend": {
         "itemsizing": "constant",
         "tracegroupgap": 0
        },
        "mapbox": {
         "accesstoken": "pk.eyJ1IjoiZWRvdHVycmkiLCJhIjoiY2t1djM3Ym95MWR0dDJvbzI1MXJpOWJpZSJ9.wd6mEi7SSFead6KlWIbsjQ",
         "center": {
          "lat": 36.60813708791209,
          "lon": -98.01589148351647
         },
         "domain": {
          "x": [
           0,
           1
          ],
          "y": [
           0,
           1
          ]
         },
         "style": "streets",
         "zoom": 3.25
        },
        "margin": {
         "b": 0,
         "l": 0,
         "r": 0,
         "t": 50
        },
        "template": {
         "data": {
          "bar": [
           {
            "error_x": {
             "color": "#2a3f5f"
            },
            "error_y": {
             "color": "#2a3f5f"
            },
            "marker": {
             "line": {
              "color": "#E5ECF6",
              "width": 0.5
             },
             "pattern": {
              "fillmode": "overlay",
              "size": 10,
              "solidity": 0.2
             }
            },
            "type": "bar"
           }
          ],
          "barpolar": [
           {
            "marker": {
             "line": {
              "color": "#E5ECF6",
              "width": 0.5
             },
             "pattern": {
              "fillmode": "overlay",
              "size": 10,
              "solidity": 0.2
             }
            },
            "type": "barpolar"
           }
          ],
          "carpet": [
           {
            "aaxis": {
             "endlinecolor": "#2a3f5f",
             "gridcolor": "white",
             "linecolor": "white",
             "minorgridcolor": "white",
             "startlinecolor": "#2a3f5f"
            },
            "baxis": {
             "endlinecolor": "#2a3f5f",
             "gridcolor": "white",
             "linecolor": "white",
             "minorgridcolor": "white",
             "startlinecolor": "#2a3f5f"
            },
            "type": "carpet"
           }
          ],
          "choropleth": [
           {
            "colorbar": {
             "outlinewidth": 0,
             "ticks": ""
            },
            "type": "choropleth"
           }
          ],
          "contour": [
           {
            "colorbar": {
             "outlinewidth": 0,
             "ticks": ""
            },
            "colorscale": [
             [
              0,
              "#0d0887"
             ],
             [
              0.1111111111111111,
              "#46039f"
             ],
             [
              0.2222222222222222,
              "#7201a8"
             ],
             [
              0.3333333333333333,
              "#9c179e"
             ],
             [
              0.4444444444444444,
              "#bd3786"
             ],
             [
              0.5555555555555556,
              "#d8576b"
             ],
             [
              0.6666666666666666,
              "#ed7953"
             ],
             [
              0.7777777777777778,
              "#fb9f3a"
             ],
             [
              0.8888888888888888,
              "#fdca26"
             ],
             [
              1,
              "#f0f921"
             ]
            ],
            "type": "contour"
           }
          ],
          "contourcarpet": [
           {
            "colorbar": {
             "outlinewidth": 0,
             "ticks": ""
            },
            "type": "contourcarpet"
           }
          ],
          "heatmap": [
           {
            "colorbar": {
             "outlinewidth": 0,
             "ticks": ""
            },
            "colorscale": [
             [
              0,
              "#0d0887"
             ],
             [
              0.1111111111111111,
              "#46039f"
             ],
             [
              0.2222222222222222,
              "#7201a8"
             ],
             [
              0.3333333333333333,
              "#9c179e"
             ],
             [
              0.4444444444444444,
              "#bd3786"
             ],
             [
              0.5555555555555556,
              "#d8576b"
             ],
             [
              0.6666666666666666,
              "#ed7953"
             ],
             [
              0.7777777777777778,
              "#fb9f3a"
             ],
             [
              0.8888888888888888,
              "#fdca26"
             ],
             [
              1,
              "#f0f921"
             ]
            ],
            "type": "heatmap"
           }
          ],
          "heatmapgl": [
           {
            "colorbar": {
             "outlinewidth": 0,
             "ticks": ""
            },
            "colorscale": [
             [
              0,
              "#0d0887"
             ],
             [
              0.1111111111111111,
              "#46039f"
             ],
             [
              0.2222222222222222,
              "#7201a8"
             ],
             [
              0.3333333333333333,
              "#9c179e"
             ],
             [
              0.4444444444444444,
              "#bd3786"
             ],
             [
              0.5555555555555556,
              "#d8576b"
             ],
             [
              0.6666666666666666,
              "#ed7953"
             ],
             [
              0.7777777777777778,
              "#fb9f3a"
             ],
             [
              0.8888888888888888,
              "#fdca26"
             ],
             [
              1,
              "#f0f921"
             ]
            ],
            "type": "heatmapgl"
           }
          ],
          "histogram": [
           {
            "marker": {
             "pattern": {
              "fillmode": "overlay",
              "size": 10,
              "solidity": 0.2
             }
            },
            "type": "histogram"
           }
          ],
          "histogram2d": [
           {
            "colorbar": {
             "outlinewidth": 0,
             "ticks": ""
            },
            "colorscale": [
             [
              0,
              "#0d0887"
             ],
             [
              0.1111111111111111,
              "#46039f"
             ],
             [
              0.2222222222222222,
              "#7201a8"
             ],
             [
              0.3333333333333333,
              "#9c179e"
             ],
             [
              0.4444444444444444,
              "#bd3786"
             ],
             [
              0.5555555555555556,
              "#d8576b"
             ],
             [
              0.6666666666666666,
              "#ed7953"
             ],
             [
              0.7777777777777778,
              "#fb9f3a"
             ],
             [
              0.8888888888888888,
              "#fdca26"
             ],
             [
              1,
              "#f0f921"
             ]
            ],
            "type": "histogram2d"
           }
          ],
          "histogram2dcontour": [
           {
            "colorbar": {
             "outlinewidth": 0,
             "ticks": ""
            },
            "colorscale": [
             [
              0,
              "#0d0887"
             ],
             [
              0.1111111111111111,
              "#46039f"
             ],
             [
              0.2222222222222222,
              "#7201a8"
             ],
             [
              0.3333333333333333,
              "#9c179e"
             ],
             [
              0.4444444444444444,
              "#bd3786"
             ],
             [
              0.5555555555555556,
              "#d8576b"
             ],
             [
              0.6666666666666666,
              "#ed7953"
             ],
             [
              0.7777777777777778,
              "#fb9f3a"
             ],
             [
              0.8888888888888888,
              "#fdca26"
             ],
             [
              1,
              "#f0f921"
             ]
            ],
            "type": "histogram2dcontour"
           }
          ],
          "mesh3d": [
           {
            "colorbar": {
             "outlinewidth": 0,
             "ticks": ""
            },
            "type": "mesh3d"
           }
          ],
          "parcoords": [
           {
            "line": {
             "colorbar": {
              "outlinewidth": 0,
              "ticks": ""
             }
            },
            "type": "parcoords"
           }
          ],
          "pie": [
           {
            "automargin": true,
            "type": "pie"
           }
          ],
          "scatter": [
           {
            "marker": {
             "colorbar": {
              "outlinewidth": 0,
              "ticks": ""
             }
            },
            "type": "scatter"
           }
          ],
          "scatter3d": [
           {
            "line": {
             "colorbar": {
              "outlinewidth": 0,
              "ticks": ""
             }
            },
            "marker": {
             "colorbar": {
              "outlinewidth": 0,
              "ticks": ""
             }
            },
            "type": "scatter3d"
           }
          ],
          "scattercarpet": [
           {
            "marker": {
             "colorbar": {
              "outlinewidth": 0,
              "ticks": ""
             }
            },
            "type": "scattercarpet"
           }
          ],
          "scattergeo": [
           {
            "marker": {
             "colorbar": {
              "outlinewidth": 0,
              "ticks": ""
             }
            },
            "type": "scattergeo"
           }
          ],
          "scattergl": [
           {
            "marker": {
             "colorbar": {
              "outlinewidth": 0,
              "ticks": ""
             }
            },
            "type": "scattergl"
           }
          ],
          "scattermapbox": [
           {
            "marker": {
             "colorbar": {
              "outlinewidth": 0,
              "ticks": ""
             }
            },
            "type": "scattermapbox"
           }
          ],
          "scatterpolar": [
           {
            "marker": {
             "colorbar": {
              "outlinewidth": 0,
              "ticks": ""
             }
            },
            "type": "scatterpolar"
           }
          ],
          "scatterpolargl": [
           {
            "marker": {
             "colorbar": {
              "outlinewidth": 0,
              "ticks": ""
             }
            },
            "type": "scatterpolargl"
           }
          ],
          "scatterternary": [
           {
            "marker": {
             "colorbar": {
              "outlinewidth": 0,
              "ticks": ""
             }
            },
            "type": "scatterternary"
           }
          ],
          "surface": [
           {
            "colorbar": {
             "outlinewidth": 0,
             "ticks": ""
            },
            "colorscale": [
             [
              0,
              "#0d0887"
             ],
             [
              0.1111111111111111,
              "#46039f"
             ],
             [
              0.2222222222222222,
              "#7201a8"
             ],
             [
              0.3333333333333333,
              "#9c179e"
             ],
             [
              0.4444444444444444,
              "#bd3786"
             ],
             [
              0.5555555555555556,
              "#d8576b"
             ],
             [
              0.6666666666666666,
              "#ed7953"
             ],
             [
              0.7777777777777778,
              "#fb9f3a"
             ],
             [
              0.8888888888888888,
              "#fdca26"
             ],
             [
              1,
              "#f0f921"
             ]
            ],
            "type": "surface"
           }
          ],
          "table": [
           {
            "cells": {
             "fill": {
              "color": "#EBF0F8"
             },
             "line": {
              "color": "white"
             }
            },
            "header": {
             "fill": {
              "color": "#C8D4E3"
             },
             "line": {
              "color": "white"
             }
            },
            "type": "table"
           }
          ]
         },
         "layout": {
          "annotationdefaults": {
           "arrowcolor": "#2a3f5f",
           "arrowhead": 0,
           "arrowwidth": 1
          },
          "autotypenumbers": "strict",
          "coloraxis": {
           "colorbar": {
            "outlinewidth": 0,
            "ticks": ""
           }
          },
          "colorscale": {
           "diverging": [
            [
             0,
             "#8e0152"
            ],
            [
             0.1,
             "#c51b7d"
            ],
            [
             0.2,
             "#de77ae"
            ],
            [
             0.3,
             "#f1b6da"
            ],
            [
             0.4,
             "#fde0ef"
            ],
            [
             0.5,
             "#f7f7f7"
            ],
            [
             0.6,
             "#e6f5d0"
            ],
            [
             0.7,
             "#b8e186"
            ],
            [
             0.8,
             "#7fbc41"
            ],
            [
             0.9,
             "#4d9221"
            ],
            [
             1,
             "#276419"
            ]
           ],
           "sequential": [
            [
             0,
             "#0d0887"
            ],
            [
             0.1111111111111111,
             "#46039f"
            ],
            [
             0.2222222222222222,
             "#7201a8"
            ],
            [
             0.3333333333333333,
             "#9c179e"
            ],
            [
             0.4444444444444444,
             "#bd3786"
            ],
            [
             0.5555555555555556,
             "#d8576b"
            ],
            [
             0.6666666666666666,
             "#ed7953"
            ],
            [
             0.7777777777777778,
             "#fb9f3a"
            ],
            [
             0.8888888888888888,
             "#fdca26"
            ],
            [
             1,
             "#f0f921"
            ]
           ],
           "sequentialminus": [
            [
             0,
             "#0d0887"
            ],
            [
             0.1111111111111111,
             "#46039f"
            ],
            [
             0.2222222222222222,
             "#7201a8"
            ],
            [
             0.3333333333333333,
             "#9c179e"
            ],
            [
             0.4444444444444444,
             "#bd3786"
            ],
            [
             0.5555555555555556,
             "#d8576b"
            ],
            [
             0.6666666666666666,
             "#ed7953"
            ],
            [
             0.7777777777777778,
             "#fb9f3a"
            ],
            [
             0.8888888888888888,
             "#fdca26"
            ],
            [
             1,
             "#f0f921"
            ]
           ]
          },
          "colorway": [
           "#636efa",
           "#EF553B",
           "#00cc96",
           "#ab63fa",
           "#FFA15A",
           "#19d3f3",
           "#FF6692",
           "#B6E880",
           "#FF97FF",
           "#FECB52"
          ],
          "font": {
           "color": "#2a3f5f"
          },
          "geo": {
           "bgcolor": "white",
           "lakecolor": "white",
           "landcolor": "#E5ECF6",
           "showlakes": true,
           "showland": true,
           "subunitcolor": "white"
          },
          "hoverlabel": {
           "align": "left"
          },
          "hovermode": "closest",
          "mapbox": {
           "style": "light"
          },
          "paper_bgcolor": "white",
          "plot_bgcolor": "#E5ECF6",
          "polar": {
           "angularaxis": {
            "gridcolor": "white",
            "linecolor": "white",
            "ticks": ""
           },
           "bgcolor": "#E5ECF6",
           "radialaxis": {
            "gridcolor": "white",
            "linecolor": "white",
            "ticks": ""
           }
          },
          "scene": {
           "xaxis": {
            "backgroundcolor": "#E5ECF6",
            "gridcolor": "white",
            "gridwidth": 2,
            "linecolor": "white",
            "showbackground": true,
            "ticks": "",
            "zerolinecolor": "white"
           },
           "yaxis": {
            "backgroundcolor": "#E5ECF6",
            "gridcolor": "white",
            "gridwidth": 2,
            "linecolor": "white",
            "showbackground": true,
            "ticks": "",
            "zerolinecolor": "white"
           },
           "zaxis": {
            "backgroundcolor": "#E5ECF6",
            "gridcolor": "white",
            "gridwidth": 2,
            "linecolor": "white",
            "showbackground": true,
            "ticks": "",
            "zerolinecolor": "white"
           }
          },
          "shapedefaults": {
           "line": {
            "color": "#2a3f5f"
           }
          },
          "ternary": {
           "aaxis": {
            "gridcolor": "white",
            "linecolor": "white",
            "ticks": ""
           },
           "baxis": {
            "gridcolor": "white",
            "linecolor": "white",
            "ticks": ""
           },
           "bgcolor": "#E5ECF6",
           "caxis": {
            "gridcolor": "white",
            "linecolor": "white",
            "ticks": ""
           }
          },
          "title": {
           "x": 0.05
          },
          "xaxis": {
           "automargin": true,
           "gridcolor": "white",
           "linecolor": "white",
           "ticks": "",
           "title": {
            "standoff": 15
           },
           "zerolinecolor": "white",
           "zerolinewidth": 2
          },
          "yaxis": {
           "automargin": true,
           "gridcolor": "white",
           "linecolor": "white",
           "ticks": "",
           "title": {
            "standoff": 15
           },
           "zerolinecolor": "white",
           "zerolinewidth": 2
          }
         }
        },
        "title": {
         "text": "KILLS RATE BY CITY"
        },
        "width": 1000
       }
      }
     },
     "metadata": {},
     "output_type": "display_data"
    }
   ],
   "source": [
    "# creo un dataframe con le città con più di 100 mila abitanti\n",
    "kills_by_bigcity = kills_by_city_factors[kills_by_city_factors.population >= 100000]\n",
    "\n",
    "# calcolo persone uccise per 10k abitanti\n",
    "kills_by_bigcity['kills_rate'] = round(kills_by_bigcity.kills/kills_by_bigcity.population * 10000, 3)\n",
    "\n",
    "# ordino in base ai tassi\n",
    "kills_by_bigcity.sort_values(by = 'kills_rate', ascending = False, inplace = True)\n",
    "\n",
    "# salvo access token\n",
    "access_token = 'pk.eyJ1IjoiZWRvdHVycmkiLCJhIjoiY2t1djM3Ym95MWR0dDJvbzI1MXJpOWJpZSJ9.wd6mEi7SSFead6KlWIbsjQ'\n",
    "\n",
    "# creo mappa delle città col più alto tasso di uccisioni \n",
    "fig = px.scatter_mapbox(data_frame = kills_by_bigcity, lat=\"lat\", lon=\"lng\", hover_name = \"city\", color = 'kills_rate', color_continuous_scale = 'matter', zoom = 3.25, height = 500, width = 1000, size = 'kills_rate', title = 'KILLS RATE BY CITY')\n",
    "\n",
    "# modifico lo stile del grafico\n",
    "fig.update_layout(mapbox_style = \"streets\", mapbox_accesstoken = access_token)\n",
    "\n",
    "# modifico i margini\n",
    "fig.update_layout(margin = {\"r\":0, \"t\": 50, \"l\":0, \"b\":0})\n",
    "\n",
    "fig.show()"
   ]
  },
  {
   "cell_type": "code",
   "execution_count": 57,
   "metadata": {},
   "outputs": [
    {
     "data": {
      "image/png": "[encoded data removed]",
      "text/plain": [
       "<Figure size 864x288 with 3 Axes>"
      ]
     },
     "metadata": {},
     "output_type": "display_data"
    }
   ],
   "source": [
    "# aumento il font\n",
    "sns.set(font_scale = 1)\n",
    "\n",
    "# creo un pairplot\n",
    "g = sns.PairGrid(kills_by_bigcity, y_vars = ['kills_rate'], x_vars = ['poverty_rate','Median Income','percent_completed_hs'], height = 4)\n",
    "g.map(sns.scatterplot)\n",
    "\n",
    "# aggiungo il titolo\n",
    "g.fig.suptitle('distribuzione dei tassi di uccisione rispetto a vari fattori', y = 1.03)\n",
    "\n",
    "plt.show()"
   ]
  },
  {
   "cell_type": "markdown",
   "metadata": {},
   "source": [
    "Analizzando più nel dettaglio questi grafici si può notare come ora il poverty rate sia meno correlato alle uccisioni rispetto al grafico precedente. Permangono alcuni tassi di uccisioni molto alti in città con una percentuale di completamento dell'high school molto alta: questo può essere legato al fatto che il numero di città in questa fascia è molto elevato, e quindi più probabile trovare outliers all'interno di questo intervallo."
   ]
  },
  {
   "cell_type": "markdown",
   "metadata": {},
   "source": [
    "---"
   ]
  },
  {
   "cell_type": "markdown",
   "metadata": {},
   "source": [
    "# Analisi temporale"
   ]
  },
  {
   "cell_type": "code",
   "execution_count": 59,
   "metadata": {},
   "outputs": [
    {
     "data": {
      "image/png": "[encoded data removed]",
      "text/plain": [
       "<Figure size 1080x432 with 1 Axes>"
      ]
     },
     "metadata": {},
     "output_type": "display_data"
    }
   ],
   "source": [
    "# calcolo il numero di morti per ogni mese\n",
    "kills_by_Q = kills.resample('Q', on = 'date').id.count()\n",
    "\n",
    "# creo un lineplot\n",
    "sns.lineplot(x = kills_by_Q.index, y = kills_by_Q.values)\n",
    "\n",
    "plt.show()"
   ]
  },
  {
   "cell_type": "code",
   "execution_count": 60,
   "metadata": {},
   "outputs": [
    {
     "data": {
      "text/html": [
       "<div>\n",
       "<style scoped>\n",
       "    .dataframe tbody tr th:only-of-type {\n",
       "        vertical-align: middle;\n",
       "    }\n",
       "\n",
       "    .dataframe tbody tr th {\n",
       "        vertical-align: top;\n",
       "    }\n",
       "\n",
       "    .dataframe thead th {\n",
       "        text-align: right;\n",
       "    }\n",
       "</style>\n",
       "<table border=\"1\" class=\"dataframe\">\n",
       "  <thead>\n",
       "    <tr style=\"text-align: right;\">\n",
       "      <th></th>\n",
       "      <th>weekday</th>\n",
       "      <th>kills</th>\n",
       "    </tr>\n",
       "  </thead>\n",
       "  <tbody>\n",
       "    <tr>\n",
       "      <th>0</th>\n",
       "      <td>Friday</td>\n",
       "      <td>896</td>\n",
       "    </tr>\n",
       "    <tr>\n",
       "      <th>1</th>\n",
       "      <td>Monday</td>\n",
       "      <td>847</td>\n",
       "    </tr>\n",
       "    <tr>\n",
       "      <th>2</th>\n",
       "      <td>Saturday</td>\n",
       "      <td>829</td>\n",
       "    </tr>\n",
       "    <tr>\n",
       "      <th>3</th>\n",
       "      <td>Sunday</td>\n",
       "      <td>864</td>\n",
       "    </tr>\n",
       "    <tr>\n",
       "      <th>4</th>\n",
       "      <td>Thursday</td>\n",
       "      <td>935</td>\n",
       "    </tr>\n",
       "    <tr>\n",
       "      <th>5</th>\n",
       "      <td>Tuesday</td>\n",
       "      <td>964</td>\n",
       "    </tr>\n",
       "    <tr>\n",
       "      <th>6</th>\n",
       "      <td>Wednesday</td>\n",
       "      <td>934</td>\n",
       "    </tr>\n",
       "  </tbody>\n",
       "</table>\n",
       "</div>"
      ],
      "text/plain": [
       "     weekday  kills\n",
       "0     Friday    896\n",
       "1     Monday    847\n",
       "2   Saturday    829\n",
       "3     Sunday    864\n",
       "4   Thursday    935\n",
       "5    Tuesday    964\n",
       "6  Wednesday    934"
      ]
     },
     "execution_count": 60,
     "metadata": {},
     "output_type": "execute_result"
    }
   ],
   "source": [
    "# morti per giorno della settimana\n",
    "kills_by_weekday = kills.groupby(kills.date.dt.day_name()).size().reset_index().rename(columns = {0 : 'kills', 'date':'weekday'})\n",
    "\n",
    "# ordino i giorni della settimana\n",
    "kills_by_weekday.weekday = pd.Categorical(kills_by_weekday.weekday, categories=['Monday', 'Tuesday', 'Wednesday', 'Thursday', 'Friday', 'Saturday', 'Sunday'], ordered=True)\n",
    "\n",
    "# stampo il dataframe\n",
    "kills_by_weekday"
   ]
  },
  {
   "cell_type": "code",
   "execution_count": 61,
   "metadata": {},
   "outputs": [
    {
     "data": {
      "image/png": "[encoded data removed]",
      "text/plain": [
       "<Figure size 1080x432 with 1 Axes>"
      ]
     },
     "metadata": {},
     "output_type": "display_data"
    }
   ],
   "source": [
    "# creo un barplot\n",
    "sns.barplot(data = kills_by_weekday, x = 'weekday', y = 'kills', edgecolor = 'black')\n",
    "\n",
    "plt.show()"
   ]
  },
  {
   "cell_type": "code",
   "execution_count": 62,
   "metadata": {},
   "outputs": [
    {
     "data": {
      "image/png": "[encoded data removed]",
      "text/plain": [
       "<Figure size 1123.2x864 with 7 Axes>"
      ]
     },
     "metadata": {},
     "output_type": "display_data"
    }
   ],
   "source": [
    "# creo colonna con anno dell'evento\n",
    "kills['year'] = kills.date.dt.strftime('%Y')\n",
    "\n",
    "# creo colonna con mese dell'evento\n",
    "kills['month'] = kills.date.dt.strftime('%m')\n",
    "\n",
    "# creo un catplot\n",
    "sns.catplot(kind = 'count', x = 'month', col = 'year', col_wrap = 3, data = kills, palette = 'pastel', edgecolor = 'black', height = 4, aspect = 1.3)\n",
    "\n",
    "plt.show()"
   ]
  },
  {
   "cell_type": "markdown",
   "metadata": {},
   "source": [
    "Conclusioni\n",
    "===\n",
    "Analizzando nello specifico i dati abbiamo concluso che:\n",
    "1. Il numero di vittime della polizia varia molto da stato a stato.\n",
    "2. E' necessario tenere conto di questa differenza quando si analizza gli stati in cui potrebbe esistere un fenomeno razzista.\n",
    "3. In alcuni stati la quota di vittime nere è sensibilmente più alta rispetto della loro quota nella popolazione, in altri è molto inferiore. In generale la quota di vittime nere è più alta della relativa proporzione nella popolazione.\n",
    "4. La maggior parte delle vittime è uccisa attraverso colpi di arma da fuoco e non stava scappando al momento della morte.\n",
    "5. Molte vittime stavano aggredendo gli ufficiali al momento della morte.\n",
    "6. Il numero di uomini uccisi è sensibilmente maggiore rispetto a quello delle donne, ma non sembrano esserci differenze tra i sessi rispetto alla distribuzione per età.\n",
    "7. In paesi con una basso reddito mediano e un alto poverty rate, il tasso di uccisione è maggiore."
   ]
  }
 ],
 "metadata": {
  "interpreter": {
   "hash": "71ea6ee63c5c5b3065f91a9df4d95af0df05b298596bde0128403e528b13ffe6"
  },
  "kernelspec": {
   "display_name": "Python 3.9.5 64-bit",
   "name": "python3"
  },
  "language_info": {
   "codemirror_mode": {
    "name": "ipython",
    "version": 3
   },
   "file_extension": ".py",
   "mimetype": "text/x-python",
   "name": "python",
   "nbconvert_exporter": "python",
   "pygments_lexer": "ipython3",
   "version": "3.9.5"
  },
  "toc": {
   "base_numbering": 1,
   "nav_menu": {},
   "number_sections": true,
   "sideBar": true,
   "skip_h1_title": false,
   "title_cell": "Table of Contents",
   "title_sidebar": "Contents",
   "toc_cell": true,
   "toc_position": {
    "height": "calc(100% - 180px)",
    "left": "10px",
    "top": "150px",
    "width": "185px"
   },
   "toc_section_display": true,
   "toc_window_display": false
  },
  "varInspector": {
   "cols": {
    "lenName": 16,
    "lenType": 16,
    "lenVar": 40
   },
   "kernels_config": {
    "python": {
     "delete_cmd_postfix": "",
     "delete_cmd_prefix": "del ",
     "library": "var_list.py",
     "varRefreshCmd": "print(var_dic_list())"
    },
    "r": {
     "delete_cmd_postfix": ") ",
     "delete_cmd_prefix": "rm(",
     "library": "var_list.r",
     "varRefreshCmd": "cat(var_dic_list()) "
    }
   },
   "types_to_exclude": [
    "module",
    "function",
    "builtin_function_or_method",
    "instance",
    "_Feature"
   ],
   "window_display": false
  }
 },
 "nbformat": 4,
 "nbformat_minor": 4
}
