{
 "cells": [
  {
   "cell_type": "markdown",
   "metadata": {
    "toc": true
   },
   "source": [
    "<h1>Indice dei contenuti<span class=\"tocSkip\"></span></h1>\n",
    "<div class=\"toc\"><ul class=\"toc-item\"><li><span><a href=\"#Manipolazione-dei-dati\" data-toc-modified-id=\"Manipolazione-dei-dati-1\"><span class=\"toc-item-num\">1&nbsp;&nbsp;</span>Manipolazione dei dati</a></span></li><li><span><a href=\"#Maggior-numero-di-vittime\" data-toc-modified-id=\"Maggior-numero-di-vittime-2\"><span class=\"toc-item-num\">2&nbsp;&nbsp;</span>Maggior numero di vittime</a></span></li><li><span><a href=\"#Analisi-generale-razzismo\" data-toc-modified-id=\"Analisi-generale-razzismo-3\"><span class=\"toc-item-num\">3&nbsp;&nbsp;</span>Analisi generale razzismo</a></span></li><li><span><a href=\"#BlackLivesMatter\" data-toc-modified-id=\"BlackLivesMatter-4\"><span class=\"toc-item-num\">4&nbsp;&nbsp;</span>BlackLivesMatter</a></span></li><li><span><a href=\"#Altre-variabili-\" data-toc-modified-id=\"Altre-variabili--5\"><span class=\"toc-item-num\">5&nbsp;&nbsp;</span>Altre variabili </a></span></li><li><span><a href=\"#Correlazione-con-reddito,-livello-di-povertà-e-educazione\" data-toc-modified-id=\"Correlazione-con-reddito,-livello-di-povertà-e-educazione-6\"><span class=\"toc-item-num\">6&nbsp;&nbsp;</span>Correlazione con reddito, livello di povertà e educazione</a></span></li><li><span><a href=\"#Conclusioni\" data-toc-modified-id=\"Conclusioni-7\"><span class=\"toc-item-num\">7&nbsp;&nbsp;</span>Conclusioni</a></span></li></ul></div>"
   ]
  },
  {
   "cell_type": "code",
   "execution_count": 1,
   "metadata": {},
   "outputs": [
    {
     "data": {
      "text/plain": [
       "\"\\nAll'inizio di un'analisi come questa consiglio spesso di fare una breve introduzione a parole con gli obiettivi che \\nsi intendono raggiungere attraverso tale analisi, prima per esempio del tuo indice :)\\n\""
      ]
     },
     "execution_count": 1,
     "metadata": {},
     "output_type": "execute_result"
    }
   ],
   "source": [
    "\"\"\"\n",
    "All'inizio di un'analisi come questa consiglio spesso di fare una breve introduzione a parole con gli obiettivi che \n",
    "si intendono raggiungere attraverso tale analisi, prima per esempio del tuo indice :)\n",
    "\"\"\""
   ]
  },
  {
   "cell_type": "markdown",
   "metadata": {},
   "source": [
    "Introduzione e obbiettivi dell'analisi\n",
    "===\n",
    "Il tema delle uccisioni da parte degli ufficiali di polizia sta diventando sempre più attuale, soprattutto negli USA dove di recente ha portato a delle grosse sollevazioni e moti di protesta contro presunti (e non) abusi di potere legati ad un uso eccessivo della violenza. \n",
    "La prima parte di questa analisi approfondirà questo argomento, analizzando il fenomeno sia da un punto di vista generale, sia spostando il focus sui singoli stati, per capire se in alcuni di essi esista una maggiore tendenza a fenomeni di questo tipo.\n",
    "\n",
    "Un altro aspetto rilevante riguarda il fatto che, sempre secondo una parte dell'opinione pubblica, questo tipo di atti violenti siano maggiormente perpetrati nei confronti della popolazione afroamericana: da qui la nascita di organizzazioni ad hoc, tra le quali la più celebre 'BlackLivesMatter'. Per questo motivo la seconda parte del report verterà sull'analisi di questa teoria, per valutare se trova effettivamente riscontro all'interno dei dati.\n",
    "\n",
    "Infine, nell'ultima parte, verranno presi in considerazione ulteriori fattori che potrebbero essere legati al numero di vittime delle autorità, come ad esempio il genere, l'età, il tipo di arma utilizzato e la presenza o meno di segni di malattie mentali."
   ]
  },
  {
   "cell_type": "code",
   "execution_count": 2,
   "metadata": {
    "_cell_guid": "5359df82-c585-41d5-8887-af214306ef1a",
    "_uuid": "a3143fde-d289-4976-9bec-a1153c3cf66b",
    "jupyter": {
     "outputs_hidden": false
    }
   },
   "outputs": [
    {
     "ename": "ModuleNotFoundError",
     "evalue": "No module named 'plotly'",
     "output_type": "error",
     "traceback": [
      "\u001b[1;31m---------------------------------------------------------------------------\u001b[0m",
      "\u001b[1;31mModuleNotFoundError\u001b[0m                       Traceback (most recent call last)",
      "\u001b[1;32m~\\AppData\\Local\\Temp/ipykernel_6084/1886410624.py\u001b[0m in \u001b[0;36m<module>\u001b[1;34m\u001b[0m\n\u001b[0;32m      6\u001b[0m \u001b[1;32mimport\u001b[0m \u001b[0mwarnings\u001b[0m\u001b[1;33m\u001b[0m\u001b[1;33m\u001b[0m\u001b[0m\n\u001b[0;32m      7\u001b[0m \u001b[1;32mfrom\u001b[0m \u001b[0msklearn\u001b[0m\u001b[1;33m.\u001b[0m\u001b[0mpreprocessing\u001b[0m \u001b[1;32mimport\u001b[0m \u001b[0mminmax_scale\u001b[0m\u001b[1;33m\u001b[0m\u001b[1;33m\u001b[0m\u001b[0m\n\u001b[1;32m----> 8\u001b[1;33m \u001b[1;32mimport\u001b[0m \u001b[0mplotly\u001b[0m\u001b[1;33m.\u001b[0m\u001b[0mexpress\u001b[0m \u001b[1;32mas\u001b[0m \u001b[0mpx\u001b[0m\u001b[1;33m\u001b[0m\u001b[1;33m\u001b[0m\u001b[0m\n\u001b[0m\u001b[0;32m      9\u001b[0m \u001b[1;32mimport\u001b[0m \u001b[0mos\u001b[0m\u001b[1;33m\u001b[0m\u001b[1;33m\u001b[0m\u001b[0m\n\u001b[0;32m     10\u001b[0m \u001b[1;33m\u001b[0m\u001b[0m\n",
      "\u001b[1;31mModuleNotFoundError\u001b[0m: No module named 'plotly'"
     ]
    }
   ],
   "source": [
    "# importo le librerie\n",
    "import pandas as pd\n",
    "import matplotlib.pyplot as plt\n",
    "import seaborn as sns\n",
    "import numpy as np\n",
    "import warnings\n",
    "from sklearn.preprocessing import minmax_scale\n",
    "import plotly.express as px\n",
    "import os \n",
    "\n",
    "# imposto grandezza grafici e righe dataframe\n",
    "plt.rcParams['figure.figsize'] = (15,6)\n",
    "pd.set_option('display.max_rows', 10)"
   ]
  },
  {
   "cell_type": "code",
   "execution_count": null,
   "metadata": {
    "_cell_guid": "bbac8a13-226f-4bae-a5e0-de0a13405d4b",
    "_uuid": "27734c28-4a3d-427b-94c0-3ac5634edb7a",
    "jupyter": {
     "outputs_hidden": false
    }
   },
   "outputs": [],
   "source": [
    "# carico i dataset\n",
    "kills = pd.read_csv('data/police_killings_aggiornato.csv')\n",
    "pop = pd.read_csv('data/PopulationByCity.csv')\n",
    "races = pd.read_csv('data/ShareRaceByCity.csv')\n",
    "incomes = pd.read_csv('data/MedianHouseholdIncome2015.csv', encoding = 'unicode_escape')\n",
    "poverty_level = pd.read_csv('data/PercentagePeopleBelowPovertyLevel.csv', encoding = 'unicode_escape') # non presenta valori mancanti\n",
    "education = pd.read_csv('data/PercentOver25CompletedHighSchool.csv', encoding = 'unicode_escape') # non presenta valori mancanti"
   ]
  },
  {
   "cell_type": "markdown",
   "metadata": {},
   "source": [
    "---"
   ]
  },
  {
   "cell_type": "markdown",
   "metadata": {},
   "source": [
    "# Manipolazione dei dati\n",
    "\n",
    "Nel seguito effettueremo alcune operazioni di data manipulation, al fine di rendere più agevole la visualizzazione dei dati e più immediata la loro interpretazione."
   ]
  },
  {
   "cell_type": "code",
   "execution_count": null,
   "metadata": {
    "_cell_guid": "38dfb12a-a6c8-4451-baf1-5775ac32a56a",
    "_uuid": "142bb297-66c8-46c6-ba81-9c508c50d36a",
    "jupyter": {
     "outputs_hidden": false
    }
   },
   "outputs": [],
   "source": [
    "# lavoro sul dataset races, che contiene la quota di popolazione per ogni razza di ogni città\n",
    "\n",
    "# lista dei termini da eliminare dai nomi delle città \n",
    "stopwords = [' town', ' city', ' CDP', ' village']\n",
    "\n",
    "# creo una funzione per eliminare le stopwords\n",
    "def name_cleaner(city):\n",
    "    for word in stopwords:\n",
    "        if word in city:\n",
    "            city = city.replace(word, '')\n",
    "    return city\n",
    "\n",
    "# applico la funzione alla colonna 'City'\n",
    "races['city'] = races.City.apply(lambda city: name_cleaner(city))\n",
    "\n",
    "# elimino la vecchia colonna\n",
    "races.drop(columns = 'City', inplace= True)\n",
    "\n",
    "# rinomino la colonna 'Geographic area' come 'state'\n",
    "races = races.rename(columns = {'Geographic area':'state'})"
   ]
  },
  {
   "cell_type": "code",
   "execution_count": null,
   "metadata": {},
   "outputs": [],
   "source": [
    "\"\"\"\n",
    "prima di eliminare colonne con informazioni potenzialmente utili chiediti sempre: come posso sfruttare queste informazioni, magari cercando e utilizzando altri dataset oltre a quelli forniti? In questo caso lat e lng possono essere utili per fare una bella mappa degli USA, che in analisi come queste è un tipo di visualizzazione che ci si aspetta.\n",
    "Ti consiglio la libreria plotly, attraverso la quale puoi creare mappe interattive.\n",
    "---\n",
    "Ho mantenuto le colonne lat e lng e le ho impiegate successivamente per creare delle mappe interattive :)\n",
    "\"\"\""
   ]
  },
  {
   "cell_type": "markdown",
   "metadata": {},
   "source": [
    "Dati Mancanti e Dtypes\n",
    "===\n",
    "Spesso le fonti di dati utilizzate per le analisi presentano valori mancanti. In base alla collocazione e alla quantità dei missing values, nel seguito verrà valutato come gestirli. Inoltre, gli elementi delle variabili di ogni dataset verranno convertiti nel tipo di dato più adatto."
   ]
  },
  {
   "cell_type": "code",
   "execution_count": null,
   "metadata": {},
   "outputs": [],
   "source": [
    "# mostro tutte le righe\n",
    "pd.set_option('display.max_rows', None)\n",
    "\n",
    "# dataframe kills\n",
    "\n",
    "# percentuale di missing values in ogni colonna sul totale\n",
    "round(kills.isna().sum()[kills.isna().sum() > 0]/kills.shape[0] * 100, 2).astype(str) + '%'\n",
    "# le colonne non riportate non presentano Nan"
   ]
  },
  {
   "cell_type": "code",
   "execution_count": null,
   "metadata": {},
   "outputs": [],
   "source": [
    "# rimpiazzo i valori mancanti\n",
    "kills.fillna(value = dict(name = 'Unknown', armed = 'unknown', age = kills.age.median(), race = 'unknown', flee = 'unknown', gender = 'unknown'), inplace = True)\n",
    "\n",
    "# elimino righe senza latitudine e longitudine, in quanto i valori sono difficilmente rimpiazzabili e costituiscono meno del 5% degli esempi nel dataset\n",
    "kills.dropna(subset = ['latitude', 'longitude'], inplace = True)\n",
    "\n",
    "# controllo assenza missing values\n",
    "kills.isna().sum().sum()"
   ]
  },
  {
   "cell_type": "code",
   "execution_count": null,
   "metadata": {},
   "outputs": [],
   "source": [
    "# creo una funzione per mostrare le info necessarie delle colonne\n",
    "def data_info(data):\n",
    "    for column in data.columns:\n",
    "        print(column, data[column].dtype.name, len(data[column].unique()))\n",
    "\n",
    "# la applico al data frame kills \n",
    "data_info(kills)"
   ]
  },
  {
   "cell_type": "code",
   "execution_count": null,
   "metadata": {},
   "outputs": [],
   "source": [
    "# lista colonne da convertire\n",
    "col_to_conv = ['manner_of_death', 'armed', 'gender', 'race', 'state', 'threat_level', 'flee']\n",
    "\n",
    "# itero sulle colonne\n",
    "for column in col_to_conv:\n",
    "    # converto il dtype delle colonne\n",
    "    kills[column] = kills[column].astype('category')\n",
    "\n",
    "# converto le date in datetime objects\n",
    "kills.date = pd.to_datetime(kills.date, infer_datetime_format = True, errors = 'coerce')\n",
    "\n",
    "# stampo i nuovi tipi di colonne\n",
    "kills.dtypes"
   ]
  },
  {
   "cell_type": "code",
   "execution_count": null,
   "metadata": {},
   "outputs": [],
   "source": [
    "# dataframe pop\n",
    "\n",
    "# percentuale di missing values in ogni colonna sul totale\n",
    "round(pop.isna().sum()[pop.isna().sum() > 0]/pop.shape[0] * 100, 2).astype(str) + '%'\n",
    "# le colonne non riportate non presentano Nan"
   ]
  },
  {
   "cell_type": "code",
   "execution_count": null,
   "metadata": {},
   "outputs": [],
   "source": [
    "# in questo caso le righe con dati mancanti verranno mantenute, in quanto possono essere utili per la EDA, cosituendo più del 20% dei dati totali. "
   ]
  },
  {
   "cell_type": "code",
   "execution_count": null,
   "metadata": {},
   "outputs": [],
   "source": [
    "# dtypes e valori unici\n",
    "data_info(pop)"
   ]
  },
  {
   "cell_type": "code",
   "execution_count": null,
   "metadata": {},
   "outputs": [],
   "source": [
    "# converto state in categorica\n",
    "pop.state = pop.state.astype('category')\n",
    "\n",
    "# converto population in int\n",
    "pop.population = round(pop.population).astype(int)\n",
    "\n",
    "# stampo i dtypes delle series\n",
    "pop.dtypes"
   ]
  },
  {
   "cell_type": "code",
   "execution_count": null,
   "metadata": {},
   "outputs": [],
   "source": [
    "# dataframe races\n",
    "\n",
    "# percentuale di missing values in ogni colonna sul totale\n",
    "round(races.isna().sum()[races.isna().sum() > 0]/races.shape[0] * 100, 2).astype(str) + '%'\n",
    "# le colonne non riportate non presentano Nan"
   ]
  },
  {
   "cell_type": "code",
   "execution_count": null,
   "metadata": {},
   "outputs": [],
   "source": [
    "# stampo info colonne races\n",
    "data_info(races)"
   ]
  },
  {
   "cell_type": "code",
   "execution_count": null,
   "metadata": {},
   "outputs": [],
   "source": [
    "races.replace(to_replace= '(X)', value = np.nan, inplace= True)"
   ]
  },
  {
   "cell_type": "code",
   "execution_count": null,
   "metadata": {},
   "outputs": [],
   "source": [
    "# itero sulle colonne di races\n",
    "for column in races.columns:\n",
    "    # se la colonna contiene una quota\n",
    "    if column[:6] == 'share_':\n",
    "        # converto la colonna in tipo float\n",
    "        races[column] = races[column].astype(float)\n",
    "\n",
    "# converto colonna state in categorica\n",
    "races.state = races.state.astype('category')\n",
    "\n",
    "# stampo i dtypes\n",
    "races.dtypes"
   ]
  },
  {
   "cell_type": "code",
   "execution_count": null,
   "metadata": {},
   "outputs": [],
   "source": [
    "# dataframe incomes\n",
    "\n",
    "# sostituisco '(X)' con valori mancanti\n",
    "incomes.replace({'(X)': np.nan, '-': np.nan, '2,500-': '2500', '250,000+': '250000'}, inplace= True)"
   ]
  },
  {
   "cell_type": "code",
   "execution_count": null,
   "metadata": {},
   "outputs": [],
   "source": [
    "# percentuale di missing values in ogni colonna sul totale\n",
    "round(incomes.isna().sum()[incomes.isna().sum() > 0]/incomes.shape[0] * 100, 2).astype(str) + '%'\n",
    "# le colonne non riportate non presentano Nan"
   ]
  },
  {
   "cell_type": "code",
   "execution_count": null,
   "metadata": {},
   "outputs": [],
   "source": [
    "data_info(incomes)"
   ]
  },
  {
   "cell_type": "code",
   "execution_count": null,
   "metadata": {},
   "outputs": [],
   "source": [
    "# converto colonna stati in categorica\n",
    "incomes['Geographic Area'] = incomes['Geographic Area'].astype('category')\n",
    "\n",
    "# converto Median Income in numerica\n",
    "incomes['Median Income'] = incomes['Median Income'].astype(float)\n",
    "\n",
    "# stampo i dtypes del dataframe\n",
    "incomes.dtypes"
   ]
  },
  {
   "cell_type": "code",
   "execution_count": null,
   "metadata": {},
   "outputs": [],
   "source": [
    "# rimpiazzo valori mancanti di Median Income con la mediana\n",
    "incomes.fillna({'Median Income' : incomes['Median Income'].median()}, inplace = True)"
   ]
  },
  {
   "cell_type": "code",
   "execution_count": null,
   "metadata": {},
   "outputs": [],
   "source": [
    "# dataframe poverty_level\n",
    "\n",
    "# sostituisco '-' con valori mancanti\n",
    "poverty_level.replace({'-': np.nan}, inplace= True)"
   ]
  },
  {
   "cell_type": "code",
   "execution_count": null,
   "metadata": {},
   "outputs": [],
   "source": [
    "# percentuale di missing values in ogni colonna sul totale\n",
    "round(poverty_level.isna().sum()[poverty_level.isna().sum() > 0]/poverty_level.shape[0] * 100, 2).astype(str) + '%'\n",
    "# le colonne non riportate non presentano Nan"
   ]
  },
  {
   "cell_type": "code",
   "execution_count": null,
   "metadata": {},
   "outputs": [],
   "source": [
    "# essendo gli esempi con valori mancanti inferiori all'1%, elimino le righe corrispondenti\n",
    "poverty_level.dropna(inplace = True)"
   ]
  },
  {
   "cell_type": "code",
   "execution_count": null,
   "metadata": {},
   "outputs": [],
   "source": [
    "# stampo info poverty_level\n",
    "data_info(poverty_level)"
   ]
  },
  {
   "cell_type": "code",
   "execution_count": null,
   "metadata": {},
   "outputs": [],
   "source": [
    "# converto poverty_rate in float\n",
    "poverty_level.poverty_rate = poverty_level.poverty_rate.astype(float)\n",
    "\n",
    "# converto stati in categorica\n",
    "poverty_level['Geographic Area'] = poverty_level['Geographic Area'].astype('category')\n",
    "\n",
    "# stampo i dtypes\n",
    "poverty_level.dtypes"
   ]
  },
  {
   "cell_type": "code",
   "execution_count": null,
   "metadata": {},
   "outputs": [],
   "source": [
    "# dataframe education\n",
    "\n",
    "# sostituisco '-' con valori mancanti\n",
    "education.replace({'-': np.nan}, inplace= True)"
   ]
  },
  {
   "cell_type": "code",
   "execution_count": null,
   "metadata": {},
   "outputs": [],
   "source": [
    "# percentuale di missing values in ogni colonna sul totale\n",
    "round(education.isna().sum()[education.isna().sum() > 0]/education.shape[0] * 100, 2).astype(str) + '%'\n",
    "# le colonne non riportate non presentano Nan"
   ]
  },
  {
   "cell_type": "code",
   "execution_count": null,
   "metadata": {},
   "outputs": [],
   "source": [
    "# essendo gli esempi con valori mancanti inferiori all'1%, elimino le righe corrispondenti\n",
    "education.dropna(inplace = True)"
   ]
  },
  {
   "cell_type": "code",
   "execution_count": null,
   "metadata": {},
   "outputs": [],
   "source": [
    "# stampo info education\n",
    "data_info(education)"
   ]
  },
  {
   "cell_type": "code",
   "execution_count": null,
   "metadata": {},
   "outputs": [],
   "source": [
    "# converto colonna in tipo float\n",
    "education.percent_completed_hs = education.percent_completed_hs.astype(float)\n",
    "\n",
    "# converto stati in categorica\n",
    "education['Geographic Area'] = education['Geographic Area'].astype('category')\n",
    "\n",
    "# stampo i dtypes\n",
    "education.dtypes"
   ]
  },
  {
   "cell_type": "markdown",
   "metadata": {
    "_cell_guid": "20bc46ba-4014-4756-ac32-688075cb9354",
    "_uuid": "65184045-d56e-4abb-92fc-4a705a9c0359"
   },
   "source": [
    "---"
   ]
  },
  {
   "cell_type": "markdown",
   "metadata": {
    "_cell_guid": "bc11f36b-48f4-4910-85d7-feebf610665f",
    "_uuid": "e62e4c6e-784e-489c-8cbe-2958cffef047"
   },
   "source": [
    "Maggior numero di vittime\n",
    "===\n",
    "Analisi degli stati con il maggior numero di uccisioni in rapporto alla popolazione"
   ]
  },
  {
   "cell_type": "code",
   "execution_count": null,
   "metadata": {
    "_cell_guid": "de116b3b-72f6-4179-b711-9ca9858fc761",
    "_uuid": "0bed3336-57b3-42f8-9ed7-f62cef1f1bc8",
    "jupyter": {
     "outputs_hidden": false
    }
   },
   "outputs": [],
   "source": [
    "# creo dataframe con numero di vittime per ogni stato\n",
    "kills_per_state = pd.DataFrame(kills.state.value_counts())\n",
    "# rinomino la colonna 'state'\n",
    "kills_per_state.rename(columns = {'state':'kills'}, inplace = True)\n",
    "# rinomino l'indice\n",
    "kills_per_state.index.rename('state', inplace = True)\n",
    "\n",
    "# creo dataframe con popolazione per ogni stato\n",
    "pop_per_state = pop.groupby('state').population.sum().to_frame()\n",
    "pop_per_state.head()\n",
    "\n",
    "# unisco i due dataframe\n",
    "pop_kills = pop_per_state.merge(kills_per_state, on = 'state')\n",
    "\n",
    "#creo nuova colonna con tasso di uccisioni per stato\n",
    "pop_kills['kills_per_10k'] = pop_kills.kills/pop_kills.population * 10000\n",
    "\n",
    "# ordino il dataframe in base al tasso di uccisioni\n",
    "pop_kills.sort_values(by = 'kills_per_10k',ascending = False, inplace = True)\n",
    "\n",
    "# reimposto l'indice\n",
    "pop_kills.reset_index(inplace= True)"
   ]
  },
  {
   "cell_type": "code",
   "execution_count": null,
   "metadata": {},
   "outputs": [],
   "source": [
    "# creo una mappa\n",
    "fig = px.choropleth(data_frame = pop_kills, locations = 'state', locationmode = 'USA-states', scope = 'usa', color = 'kills_per_10k', color_continuous_scale = 'inferno_r', title = 'KILLS EVERY 10K INHABITANTS BY STATE')\n",
    "\n",
    "# modifico aspetto\n",
    "fig.update_layout(geo_showlakes = False)\n",
    "\n",
    "# imposto elementi del grafico\n",
    "fig.update_layout(width = 1000, margin = dict(t = 50, b = 0, l = 0, r = 0))\n",
    "\n",
    "fig.show()"
   ]
  },
  {
   "cell_type": "code",
   "execution_count": null,
   "metadata": {},
   "outputs": [],
   "source": [
    "\"\"\"\n",
    "bene, buona intuizione!\n",
    "\"\"\""
   ]
  },
  {
   "cell_type": "markdown",
   "metadata": {
    "_cell_guid": "53dfb830-b485-4232-8c0c-56f6b5097270",
    "_uuid": "5d4c6f5f-3c5c-48e7-b461-493e53008c1f"
   },
   "source": [
    "---"
   ]
  },
  {
   "cell_type": "markdown",
   "metadata": {
    "_cell_guid": "532c8184-922e-4e5e-aac0-6f12f80e07f5",
    "_uuid": "5c4e37da-6fde-480c-8246-5e3146e8d4b2"
   },
   "source": [
    "Analisi generale razzismo\n",
    "===\n",
    "Differenze tra le quote di cittadini statunitensi di ogni razza e la quota di vittime di ogni razza rispetto al totale delle vittime."
   ]
  },
  {
   "cell_type": "code",
   "execution_count": null,
   "metadata": {
    "_cell_guid": "d68f7418-3270-4145-830d-28d1769195fa",
    "_uuid": "6d4415c6-c28e-42e9-b566-b927fee15e30"
   },
   "outputs": [],
   "source": [
    "# calcolo il numero di vittime per ogni razza sul totale delle vittime\n",
    "\n",
    "# totale vittime per razza\n",
    "kills_per_race = kills.race.value_counts() \n",
    "\n",
    "# divido il totale di ogni razza per il totale delle vittime\n",
    "kills_rate = pd.DataFrame(kills_per_race/kills_per_race.sum())\n",
    "\n",
    "# rinomino la colonna con i tassi di uccisione per ogni razza\n",
    "kills_rate.rename(columns = {'race':'rate'}, inplace = True)\n",
    "\n",
    "# rinomino l'indice\n",
    "kills_rate.index.rename('race', inplace = True)"
   ]
  },
  {
   "cell_type": "code",
   "execution_count": null,
   "metadata": {
    "_cell_guid": "518ffbed-193f-47d2-a33e-9434a26cd52b",
    "_uuid": "2fc72c2b-3728-42c1-947d-4355aaff77ce",
    "jupyter": {
     "outputs_hidden": false
    }
   },
   "outputs": [],
   "source": [
    "# creo races_pop che contiene la popolazione e le quote di razza per ogni città\n",
    "races_pop = pop.merge(races, on = ['state','city'])\n",
    "\n",
    "# creo colonne con totale abitanti per ogni razza di ogni città\n",
    "for race_share in races_pop.columns[races_pop.columns.get_loc('share_white'):]:\n",
    "    race_name = race_share[race_share.index('_') + 1 : ]\n",
    "    tot_race = 'tot_' + race_name\n",
    "    races_pop[tot_race] = races_pop[race_share].astype(float)/100 * races_pop.population\n",
    "\n",
    "# arrotondo il numero (sono persone, non possono essere numeri decimali) \n",
    "races_pop.loc[:,'tot_white':].round(decimals = 0)\n",
    "\n",
    "# trasformo i numeri in interi\n",
    "races_pop.loc[:,'tot_white':] = races_pop.loc[:,'tot_white':].astype(int)"
   ]
  },
  {
   "cell_type": "code",
   "execution_count": null,
   "metadata": {},
   "outputs": [],
   "source": [
    "\"\"\"\n",
    "tieni a mente quando fai il merge che i dataset pop e races hanno due shapes diverse, quindi perderai delle informazioni\n",
    "dopo il merge ;)\n",
    "\"\"\""
   ]
  },
  {
   "cell_type": "code",
   "execution_count": null,
   "metadata": {
    "_cell_guid": "c43fbb32-904a-4894-a5c1-f9d3b17f541f",
    "_uuid": "a99a6cc9-3bc6-4ec6-a87b-15bc7e68b72d",
    "jupyter": {
     "outputs_hidden": false
    }
   },
   "outputs": [],
   "source": [
    "# calcolo le quote di ogni razza nella popolazione\n",
    "pop_race_shares = races_pop.loc[:,'tot_white':].sum()/races_pop.loc[:,'tot_white':].sum().sum()\n",
    "\n",
    "#creo un data frame con le quote\n",
    "pop_race_shares = pop_race_shares.to_frame()\n",
    "\n",
    "#rinomino la colonna\n",
    "pop_race_shares.rename( columns = {0:'rate'}, inplace = True)"
   ]
  },
  {
   "cell_type": "code",
   "execution_count": null,
   "metadata": {
    "_cell_guid": "d234d359-780b-4b0e-b0c6-a437d2653117",
    "_uuid": "ddf71173-37c5-4bed-a3d4-33888eb7e1ac",
    "jupyter": {
     "outputs_hidden": false
    }
   },
   "outputs": [],
   "source": [
    "# imposto lo stile \n",
    "sns.set_style('darkgrid')\n",
    "\n",
    "# creo subplots\n",
    "fig, ax = plt.subplots(nrows = 1, ncols = 2, figsize = (15,6), sharex = True)\n",
    "\n",
    "# inserisco il titolo\n",
    "fig.suptitle('Police victims composition vs. population composition', fontsize = 20)\n",
    "\n",
    "# creo barplot per la quota di vittime per razza\n",
    "sns.barplot(ax = ax[0], data = kills_rate, y = kills_rate.index, x = 'rate', palette = 'plasma', edgecolor = 'black', order = ['W', 'B', 'H', 'A', 'N'])\n",
    "\n",
    "# barplot quote razze nella popolazione\n",
    "sns.barplot(ax = ax[1], data = pop_race_shares, x = 'rate', y = pop_race_shares.index, palette = 'plasma', edgecolor = 'black', order = ['tot_white', 'tot_black', 'tot_hispanic', 'tot_asian', 'tot_native_american'])\n",
    "\n",
    "# imposto titoli dei grafici\n",
    "ax[0].set_title('Victims\\' Composition', fontsize = 17)\n",
    "ax[1].set_title('Population\\'s Composition', fontsize = 17)\n",
    "\n",
    "# imposto titoli assi x\n",
    "ax[0].set_xlabel('Rate', size = 15)\n",
    "ax[1].set_xlabel('Rate', size = 15)\n",
    "\n",
    "# imposto titoli assi y\n",
    "ax[0].set_ylabel('Race', size = 15)\n",
    "\n",
    "# imposto xticks\n",
    "ax[0].set_yticklabels(['Whites', 'Blacks', 'Hispanics', 'Asians', 'Natives'], size = 12, rotation = 45)\n",
    "ax[1].set_yticklabels(['Whites', 'Blacks', 'Hispanics', 'Asians', 'Natives'], size = 12, rotation = 45)\n",
    "\n",
    "# mostro il grafico\n",
    "plt.show()"
   ]
  },
  {
   "cell_type": "markdown",
   "metadata": {
    "_cell_guid": "5379fa25-4b42-4a1d-b512-379473e3fc48",
    "_uuid": "cd4854ab-1132-4af8-9340-b05de5d3cbaf"
   },
   "source": [
    "Dal grafico emerge come la quota di vittime afroamericane sia maggiore rispetto alla loro quota all'interno della popolazione.\n",
    "Questo fatto può avere portato alla nascita dei movimenti contro la violenza della polizia quali ad esempio 'BlackLivesMatter'.\n",
    "\n",
    "L'analisi del prossimo paragrafo approfondirà proprio questo tema."
   ]
  },
  {
   "cell_type": "markdown",
   "metadata": {
    "_cell_guid": "2d3abf7e-ad50-4718-849e-833cffae9c7d",
    "_uuid": "70923fb3-2425-4377-aa28-4dc220868d27"
   },
   "source": [
    "---"
   ]
  },
  {
   "cell_type": "markdown",
   "metadata": {
    "_cell_guid": "ab7ffcec-7916-4d39-966b-5b8f3e865735",
    "_uuid": "fda7090a-f09a-432c-8580-fa336494ecc0"
   },
   "source": [
    "BlackLivesMatter\n",
    "===\n",
    "Recentemente, negli USA sono scoppiate numerose rivolte a seguito di alcuni episodi di violenza piuttosto significativi perpetrati da ufficiali di polizia nei confronti di afroamericani.\n",
    "\n",
    "Di seguito analizzeremo i dati, per ogni stato, per capire se si possa parlare di un vero e proprio fenomeno di razzismo, o se si tratti di episodi isolati.\n",
    "\n",
    "In questa sezione verrà analizzata la situazione nei diversi stati. In questo caso rapportare le vittime nere con la popolazione afroamericana di ogni stato non avrebbe molto senso perchè, come abbiamo visto, il tasso di vittime generale della polizia varia da stato a stato: un alto rapporto tra vittime nere e popolazione afroamericana potrebbe essere sintomo di una tendenza generalizzata della poliza di quello stato a fare più vittime, indipendentemente dalla razza.\n",
    "\n",
    "Per questo confronteremo per ogni stato la quota di vittime nere sul totale delle vittime e il tasso di afroamericani nella popolazione, cercando gli stati in cui si riscontrano maggiori differenze."
   ]
  },
  {
   "cell_type": "code",
   "execution_count": null,
   "metadata": {
    "_cell_guid": "97450987-d9d1-4a7d-a214-8706244031e2",
    "_uuid": "ff79fb03-6bd8-42ad-a717-52bbfa8f3a31"
   },
   "outputs": [],
   "source": [
    "# totale afroamericani e popolazione di ogni stato\n",
    "blacks_by_state = races_pop.groupby('state')[['tot_black','population']].sum()\n",
    "\n",
    "# quota di neri per stato\n",
    "blacks_by_state['shares'] = blacks_by_state.tot_black / blacks_by_state.population\n",
    "\n",
    "# percentuale di neri per stato\n",
    "blacks_by_state['percentage'] = (blacks_by_state.shares * 100).round(decimals = 1)\n",
    "\n",
    "# ordino in base alle shares di afroamercani\n",
    "blacks_by_state = blacks_by_state.sort_values(by = 'shares', ascending = False)"
   ]
  },
  {
   "cell_type": "code",
   "execution_count": null,
   "metadata": {
    "_cell_guid": "d32883eb-a49f-43ce-8358-ab8caa17e919",
    "_uuid": "4112259e-0dfe-4129-9be0-11a2bd58c969",
    "jupyter": {
     "outputs_hidden": false
    }
   },
   "outputs": [],
   "source": [
    "# numero di vittime per razza per ogni stato\n",
    "kills_state_race = kills.pivot_table(kills, index = 'state', columns = 'race', aggfunc = 'size', fill_value = 0)\n",
    "\n",
    "# creo colonna con vittime totali per ogni stato\n",
    "kills_state_race['total'] = kills_state_race.sum(axis = 1)\n",
    "\n",
    "# quota di afroamericani sul totale delle vittime di ogni stato\n",
    "kills_state_race['% black kills'] = (kills_state_race.B / kills_state_race.total * 100).round( decimals = 1)\n",
    "\n",
    "# ordino il dataframe per '% black kills'\n",
    "kills_state_race = kills_state_race.sort_values(by = '% black kills', ascending = False)\n",
    "\n",
    "# per coerenza col dataframe precedente elimino il DC dagli stati\n",
    "kills_state_race = kills_state_race.drop(index = 'DC')"
   ]
  },
  {
   "cell_type": "code",
   "execution_count": null,
   "metadata": {},
   "outputs": [],
   "source": [
    "kills_state_race.shape"
   ]
  },
  {
   "cell_type": "code",
   "execution_count": null,
   "metadata": {
    "_cell_guid": "c54816fa-8644-4357-a52f-f6c434fb112d",
    "_uuid": "e3b5844c-c0f6-4e0c-8a84-1191df0caf8a"
   },
   "outputs": [],
   "source": [
    "# visualizzazione\n",
    "fig, ax = plt.subplots(nrows = 1, ncols = 2, figsize = (15,15), sharey = True)\n",
    "\n",
    "# afroamericani sul totale delle vittime per stato\n",
    "sns.barplot(data = kills_state_race, x = '% black kills', y = kills_state_race.index, ax = ax[0], palette = 'plasma')\n",
    "\n",
    "# percentuale di afroamericani nella popolazione per stato\n",
    "sns.barplot(data = blacks_by_state, x = 'percentage', y = blacks_by_state.index, ax = ax[1], palette = 'plasma', order = kills_state_race.index.to_list())\n",
    "\n",
    "# imposto titoli grafici\n",
    "ax[0].set_title(label = '% afroamericani sul totale delle vittime', fontsize = 18)\n",
    "ax[1].set_title(label = '% afroamericani nella popolazione', fontsize = 18)\n",
    "\n",
    "# imposto titoli assi x\n",
    "ax[0].set_xlabel('Percentuale', size = 15)\n",
    "ax[1].set_xlabel('Percentuale', size = 15)\n",
    "\n",
    "# imposto titoli assi y\n",
    "ax[0].set_ylabel('Stato', size = 15)\n",
    "ax[1].set_ylabel('Stato', size = 15)\n",
    "\n",
    "plt.show()"
   ]
  },
  {
   "cell_type": "markdown",
   "metadata": {},
   "source": [
    "Da questi grafici emergono forti disuguaglianze ma il confronto rimane difficoltoso. Per avere una visione più chiara possiamo calcolare la differenza tra la percentuale di neri uccisi e la loro quota nella popolazione."
   ]
  },
  {
   "cell_type": "code",
   "execution_count": null,
   "metadata": {
    "_cell_guid": "4cb8013d-280d-438a-a440-b2b706fa993e",
    "_uuid": "e062730c-2e4a-42f0-a4d2-259a696e1149",
    "jupyter": {
     "outputs_hidden": false
    }
   },
   "outputs": [],
   "source": [
    "# differenze tra % di vittime e quota della poplazione per ogni stato\n",
    "differences = kills_state_race['% black kills'] - blacks_by_state.percentage\n",
    "\n",
    "# ordino la serie\n",
    "differences = differences.sort_values(ascending = False)"
   ]
  },
  {
   "cell_type": "code",
   "execution_count": null,
   "metadata": {
    "_cell_guid": "8cc8cc96-49a8-4cfd-9bf1-43761a5b0023",
    "_uuid": "948f0ec0-8065-4947-95f2-a76ddb63b2f3",
    "jupyter": {
     "outputs_hidden": false
    }
   },
   "outputs": [],
   "source": [
    "# scalo i valori\n",
    "scaled_diff = minmax_scale(differences)\n",
    "\n",
    "# creo una figura\n",
    "plt.figure(figsize = (20,8))\n",
    "\n",
    "# barplot per le differenze\n",
    "sns.barplot(y = scaled_diff, x = differences.index, edgecolor = 'black', palette= 'inferno')\n",
    "\n",
    "# titolo del grafico\n",
    "plt.title('Differences between black quotes and black killings', fontsize = 16)\n",
    "\n",
    "plt.show()"
   ]
  },
  {
   "cell_type": "markdown",
   "metadata": {
    "_cell_guid": "fac4892d-be8b-46c2-ac63-a6c1c2cc392c",
    "_uuid": "516e31c9-4ec9-468f-82e8-74396336b9bd"
   },
   "source": [
    "Gli stati in cui la quota di neri uccisi è sensibilmente più alta rispetto alla loro percentuale nella popolazione sono lo stato di Rhode Island, l'Illinois, il New York e il New Jersey. Ciò che accoumuna questi stati è che sono tutti situati sulla costa est (tranne l'Illinois) e sono a maggioranza democratica. Ovviamente bisognerebbe condurre analisi più approfondite per stabilire se esiste davvero una correlazione tra il fattore geopolitico e il tasso di vittime della polizia.\n",
    "\n",
    "Si può anche notare come in Alabama, Mississipi e Michigan il tasso di vittime afroamericane è più basso rispetto alla quota della popolazione."
   ]
  },
  {
   "cell_type": "code",
   "execution_count": null,
   "metadata": {},
   "outputs": [],
   "source": [
    "\"\"\"\n",
    "forse qui i valori negativi sull'asse y possono confondere un po' l'utente finale in un possibile report lavorativo,\n",
    "in quanto il grafico non risulta immediato. In questi casi o cambi tipo di grafico oppure l'unità di misura sull'asse delle y\n",
    "---\n",
    "ora ho scalato i dati utilizzando minmax_scale\n",
    "\"\"\""
   ]
  },
  {
   "cell_type": "markdown",
   "metadata": {
    "_cell_guid": "04aac2ab-dba9-4631-be82-17d8cffb7276",
    "_uuid": "0baf3eda-760a-4b2d-ae25-56fa6a9f75a1"
   },
   "source": [
    "---"
   ]
  },
  {
   "cell_type": "markdown",
   "metadata": {
    "_cell_guid": "bdc713e5-3cfb-4bd8-9ee6-cda050350e79",
    "_uuid": "4bea22e9-5027-48fa-9369-a32ecd2e7f2a"
   },
   "source": [
    "Altre variabili \n",
    "===\n",
    "In questa sezione analizzeremo come varia l'eta delle vittime in base al genere e al fatto che mostrino o meno malattie mentali, il livello di minaccia dei vari episodi e le armi più utilizzate dalla polizia."
   ]
  },
  {
   "cell_type": "code",
   "execution_count": null,
   "metadata": {
    "_cell_guid": "4429c08c-3bb4-4268-be5e-ba733b3d6159",
    "_uuid": "a6f47f5d-5586-47a8-8692-0f42b06bd451",
    "jupyter": {
     "outputs_hidden": false
    }
   },
   "outputs": [],
   "source": [
    "# aumento grandezza del testo\n",
    "sns.set(font_scale = 1.2)\n",
    "\n",
    "# creo dei subplots\n",
    "fig, axis = plt.subplots(nrows = 3, ncols = 2, figsize = (15, 25))\n",
    "\n",
    "# vittime per genere\n",
    "sns.countplot(kills.gender, edgecolor = 'black', ax = axis[0,0])\n",
    "# imposto titoli\n",
    "axis[0,0].set(title = 'Kills by gender', xlabel = 'Gender', ylabel = 'Count', xticklabels = ['Male', 'Female','Unknown'])\n",
    "\n",
    "# rappresento come varia distribuzione di età in base al genere\n",
    "sns.violinplot(data = kills, y= 'gender', x = 'age', ax = axis[0,1])\n",
    "# imposto titoli\n",
    "axis[0,1].set(title = 'Gender distribution by age', xlabel = 'Age', ylabel = 'Gender', yticklabels = ['Male', 'Female', 'unknown'])\n",
    "\n",
    "# estraggo le 10 armi più utilizzate\n",
    "armed = kills.armed.value_counts()[0:10]\n",
    "# creo un barplot\n",
    "sns.barplot(x = armed.index, y = armed.values, ax = axis[1,0], edgecolor = 'black')\n",
    "# imposto titolo\n",
    "axis[1,0].set_title('Top 10 weapons used')\n",
    "# imposto xticks\n",
    "axis[1,0].tick_params(axis = 'x', labelrotation = 27, labelsize = 12)\n",
    "\n",
    "# se la vittima stava scappando e come\n",
    "sns.countplot(data = kills, x = 'flee', ax = axis[1,1], edgecolor = 'black')\n",
    "# imposto titolo\n",
    "axis[1,1].set_title('Victim fleeing')\n",
    "\n",
    "# livello di minaccia\n",
    "sns.countplot(kills.threat_level, ax = axis[2,0], edgecolor = 'black')\n",
    "# imposto titolo\n",
    "axis[2,0].set_title('Threat level')\n",
    "\n",
    "# converto in stringhe gli elementi della serie\n",
    "kills['signs_of_mental_illness'] = kills.signs_of_mental_illness.astype(str)\n",
    "# distribuzione età vs malattie mentali\n",
    "sns.violinplot(data = kills, y = 'signs_of_mental_illness', x = 'age', ax = axis[2,1])\n",
    "# imposto titoli\n",
    "axis[2,1].set(title = 'mentally ill victimns by age', xlabel = 'Age', ylabel = 'Mental illnesses', yticklabels = ['True', 'False'])\n",
    "\n",
    "# titolo della figura\n",
    "fig.suptitle('Other Relevant Factors', fontsize = 24, y = 0.91)\n",
    "\n",
    "# ignoro warnings\n",
    "warnings.filterwarnings('ignore')\n",
    "\n",
    "plt.show()"
   ]
  },
  {
   "cell_type": "markdown",
   "metadata": {},
   "source": [
    "Il numero di uomini uccisi è molto superiore rispetto a quello di donne. Tuttavia la distribuzione per età non varia molto: si può osservare come la distribuzione delle vittime di genere maschile sia solamente un po' più concentrata tra i 20 e i 40 anni rispetto alle donne.\n",
    "\n",
    "Lo stesso vale per le vittime che presentano segni di malattie mentali, più propense ad essere uccise anche in età più avanzata.\n",
    "\n",
    "Si può inoltre osservare come secondo i rapporti, la maggioranza delle vittime non stesse scappando; questo può essere dovuto al fatto che nella maggioranza dei casi le vittime della polizia stessero aggredendo gli ufficiali, come emerge dall'analisi dei livelli di minaccia."
   ]
  },
  {
   "cell_type": "code",
   "execution_count": null,
   "metadata": {},
   "outputs": [],
   "source": [
    "\"\"\"\n",
    "tutte queste analisi sarebbe interessante riportarle rispetto all'etnia di appartanenza, per esempio nel caso\n",
    "della distribuzione d'età potresti fare un catplot in cui hai sull'asse delle x gruppi d'età (0-18,19-30 etc..), mentre sull'asse delle y il numero di vittime, il tutto rispetto alle diverse etnie così da confrontarle all'interno dello stesso grafico\n",
    "\n",
    "\"\"\""
   ]
  },
  {
   "cell_type": "code",
   "execution_count": null,
   "metadata": {},
   "outputs": [],
   "source": [
    "# percentuale di NaN in colonna age di kills\n",
    "kills.age.isna().sum()/len(kills.age)\n",
    "\n",
    "# sostituisco i valori mancanti di ages con il precedente\n",
    "ages_filled = kills.age.fillna(method= 'ffill')\n",
    "\n",
    "# divido la serie in categorie\n",
    "cat_ages = pd.cut(ages_filled, bins = [0, 18, 30, 40, 50, 60, 80], labels=['0-18', '19-30', '31-40', '40-50', '50-60', '60-80'])\n",
    "# in bins escluso inizio intervallo e inclusa la fine\n",
    "\n",
    "# inserisco la serie nel dataframe\n",
    "kills.insert(5, 'Age_Group', cat_ages)\n",
    "\n",
    "# nuova colonna\n",
    "print(kills.Age_Group.head())"
   ]
  },
  {
   "cell_type": "code",
   "execution_count": null,
   "metadata": {},
   "outputs": [],
   "source": [
    "# creo FacetGrid\n",
    "g = sns.catplot(kind = 'count', data = kills, col = 'Age_Group', x = 'race', col_wrap= 3, height = 4.5, aspect = 1.2, edgecolor = 'black', order = ['W', 'B', 'A', 'H', 'N', 'O'])\n",
    "\n",
    "# modifico elementi del grafico\n",
    "g.set(xticklabels = ['Whites', 'Blacks', 'Asians', 'Hispanics', 'Natives', 'Others'], xlabel = 'Race', ylabel = 'Count')\n",
    "\n",
    "# mostro il grafico \n",
    "plt.show()"
   ]
  },
  {
   "cell_type": "markdown",
   "metadata": {
    "_cell_guid": "2b9d4ff0-4374-4c35-9f10-a29f0ae18a35",
    "_uuid": "08c03282-f32b-48cf-a456-420066acd8b8"
   },
   "source": [
    "---"
   ]
  },
  {
   "cell_type": "markdown",
   "metadata": {
    "_cell_guid": "493eca0d-eb43-46fd-9b17-1e6fa36efdc4",
    "_uuid": "300503ea-7270-4118-a0c1-9fa844dc8279"
   },
   "source": [
    "# Correlazione con reddito, livello di povertà e educazione"
   ]
  },
  {
   "cell_type": "code",
   "execution_count": null,
   "metadata": {
    "_cell_guid": "c44c901e-2592-43a4-9186-8e7d28ed1740",
    "_uuid": "d58fce56-ff4e-45a3-b2ae-aed6a3c0a519",
    "jupyter": {
     "outputs_hidden": false
    }
   },
   "outputs": [],
   "source": [
    "# creo un data frame con i vari fattori\n",
    "factors = incomes.merge(poverty_level, on = ['Geographic Area','City']).merge(education, on = ['Geographic Area','City'])\n",
    "\n",
    "# converto in float colonne con tasso di povertà, reddito mediano e percentuale di completamento high school\n",
    "factors.loc[:,'Median Income':'percent_completed_hs'] = factors.loc[:,'Median Income':'percent_completed_hs'].replace({'(X)':np.nan, '-':np.nan, '2,500-':'2500', '250,000+':'250000'}).astype(float)\n",
    "\n",
    "# rinomino colonne\n",
    "factors = factors.rename(columns = {'Geographic Area':'state','City':'city'})\n",
    "\n",
    "# modifico i nomi delle città\n",
    "factors.city = factors.city.apply(lambda city: name_cleaner(city))"
   ]
  },
  {
   "cell_type": "code",
   "execution_count": null,
   "metadata": {
    "_cell_guid": "c44c901e-2592-43a4-9186-8e7d28ed1740",
    "_uuid": "d58fce56-ff4e-45a3-b2ae-aed6a3c0a519",
    "jupyter": {
     "outputs_hidden": false
    }
   },
   "outputs": [],
   "source": [
    "# creo un dataframe con le morti per ogni ciità\n",
    "kills_by_city = kills.groupby(['state','city']).size().to_frame().rename(columns = {0:'kills'})\n",
    "\n",
    "# lo unisco a factors\n",
    "kills_by_city_factors = kills_by_city.merge(factors, on =['state','city']).merge(pop, on =['state','city'])\n",
    "\n",
    "# stampo il nuovo dataframe\n",
    "kills_by_city_factors.head(5)"
   ]
  },
  {
   "cell_type": "code",
   "execution_count": null,
   "metadata": {},
   "outputs": [],
   "source": [
    "# aumento la dimensione del testo\n",
    "sns.set(font_scale = 1.2)\n",
    "\n",
    "# creo un pariplot\n",
    "g = sns.PairGrid(kills_by_city_factors.loc[:,:'percent_completed_hs'], height = 3.3)\n",
    "# imposto grafici sulla diagonale\n",
    "g.map_diag(sns.histplot, bins = 20)\n",
    "# creo grafici fuori dalla diagonale\n",
    "g.map_offdiag(sns.scatterplot)\n",
    "\n",
    "# aggiungo il titolo della figura\n",
    "g.fig.suptitle('correlation between factors', y = 1.02, fontsize = 16)\n",
    "\n",
    "plt.show()"
   ]
  },
  {
   "cell_type": "markdown",
   "metadata": {},
   "source": [
    "Da questo pairplot emerge una correlazione negativa abbastanza forte tra il tasso di povertà della popolazione e la percentuale di over 25 che hanno completato la high school. Ovviamente il grafico denota anche una relazione di proporzionalità inversa tra il reddito mediano e il tasso di povertà.\n",
    "\n",
    "In molte città con un basso reddito mediano si verifica un alto numero di uccisioni: sintomo che in molti casi è la povertà che spinge le vittime a commettere crimini. \n",
    "\n",
    "Ciò che sorprende è il grande numero di uccisioni in città con percentuali di completamento dell'high school alte e poverty rate bassi: questo può essere dovuto anche al grande numero di abitanti di queste città. Per ovviare al probelma, di seguito approfondiremo l'analisi di quesi casi utilizzando il numero di uccisioni ogni 10mila abitanti. Per ottenere tassi attendibili prenderemo solamente campioni sufficientemente ampi, nel caso specifico città con più di 100mila abitanti."
   ]
  },
  {
   "cell_type": "code",
   "execution_count": null,
   "metadata": {},
   "outputs": [],
   "source": [
    "\"\"\"\n",
    "il pairplot è sempre una buona idea per cercare correlazioni tra le variabili in gioco\n",
    "\"\"\""
   ]
  },
  {
   "cell_type": "code",
   "execution_count": null,
   "metadata": {
    "jupyter": {
     "outputs_hidden": true
    }
   },
   "outputs": [],
   "source": [
    "# creo un dataframe con le città con più di 100 mila abitanti\n",
    "kills_by_bigcity = kills_by_city_factors[kills_by_city_factors.population >= 100000]\n",
    "\n",
    "# calcolo persone uccise per 10k abitanti\n",
    "kills_by_bigcity['kills_rate'] = round(kills_by_bigcity.kills/kills_by_bigcity.population * 10000, 3)\n",
    "\n",
    "# ordino in base ai tassi\n",
    "kills_by_bigcity.sort_values(by = 'kills_rate', ascending = False, inplace = True)\n",
    "\n",
    "# salvo access token\n",
    "access_token = 'pk.eyJ1IjoiZWRvdHVycmkiLCJhIjoiY2t1djM3Ym95MWR0dDJvbzI1MXJpOWJpZSJ9.wd6mEi7SSFead6KlWIbsjQ'\n",
    "\n",
    "# creo mappa delle città col più alto tasso di uccisioni \n",
    "fig = px.scatter_mapbox(data_frame = kills_by_bigcity, lat=\"lat\", lon=\"lng\", hover_name = \"city\", color = 'kills_rate', color_continuous_scale = 'matter', zoom = 3.25, height = 500, width = 1000, size = 'kills_rate', title = 'KILLS RATE BY CITY')\n",
    "\n",
    "# modifico lo stile del grafico\n",
    "fig.update_layout(mapbox_style = \"streets\", mapbox_accesstoken= access_token)\n",
    "\n",
    "# modifico i margini\n",
    "fig.update_layout(margin = {\"r\":0,\"t\": 50,\"l\":0,\"b\":0})\n",
    "\n",
    "fig.show()"
   ]
  },
  {
   "cell_type": "code",
   "execution_count": null,
   "metadata": {},
   "outputs": [],
   "source": [
    "# visualizzo relazione tra tasso di morti e i vari fattori\n",
    "\n",
    "sns.set(font_scale = 1)\n",
    "g = sns.PairGrid(kills_by_bigcity, y_vars = ['kills_rate'], x_vars = ['poverty_rate','Median Income','percent_completed_hs'], height = 4)\n",
    "g.map(sns.scatterplot)\n",
    "\n",
    "g.fig.suptitle('distribuzione dei tassi di uccisione rispetto a vari fattori', y = 1.03)\n",
    "\n",
    "plt.show()"
   ]
  },
  {
   "cell_type": "markdown",
   "metadata": {},
   "source": [
    "Analizzando più nel dettaglio questi grafici si può notare come ora il poverty rate sia meno correlato alle uccisioni rispetto al grafico precedente. Permangono alcuni tassi di uccisioni molto alti in città con una percentuale di completamento dell'high school molto alta: questo può essere legato al fatto che il numero di città in questa fascia è molto elevato, e quindi più probabile trovare outliers all'interno di questo intervallo."
   ]
  },
  {
   "cell_type": "code",
   "execution_count": null,
   "metadata": {},
   "outputs": [],
   "source": [
    "\"\"\"\n",
    "Per arricchire il tuo notebook ti consiglio:\n",
    "\n",
    "- un'analisi di tipo temporale (qui trovi dell'ottimo materiale del super coach Francesco Bagattini sulle time series\n",
    "https://nbviewer.jupyter.org/github/fbagattini/Lezioni/tree/master/eng/)\n",
    "\n",
    "- creare matrici di correlazione per capire se ci sono ulteriori relazioni interessanti tra le variabili\n",
    "\n",
    "- mappe interattive rispetto agli stati o anche rispetto alle città (magari puoi prendere le 10 più pericolose e graficarle)\n",
    "\n",
    "- fare un po' feature engineering utilizzando magari altri dataset a tua scelta (se non sai cos'è, ti consiglio di fare delle ricerche a riguardo, perchè diventerà uno strumento fondamentale nel tuo futuro prossimo come data scientist ;) )\n",
    "\n",
    "\"\"\"\n"
   ]
  },
  {
   "cell_type": "markdown",
   "metadata": {},
   "source": [
    "---"
   ]
  },
  {
   "cell_type": "markdown",
   "metadata": {},
   "source": [
    "# Analisi temporale"
   ]
  },
  {
   "cell_type": "code",
   "execution_count": null,
   "metadata": {},
   "outputs": [],
   "source": [
    "# converto in date objects la colonna 'date'\n",
    "kills.date = pd.to_datetime(kills.date)\n",
    "\n",
    "# calcolo il numero di morti in ogni stato per ogni mese\n",
    "kills_bystate_by_month = kills.groupby('state').resample('M', on = 'date').id.count()"
   ]
  },
  {
   "cell_type": "markdown",
   "metadata": {},
   "source": [
    "---"
   ]
  },
  {
   "cell_type": "markdown",
   "metadata": {},
   "source": [
    "Conclusioni\n",
    "===\n",
    "Analizzando nello specifico i dati abbiamo concluso che:\n",
    "1. Il numero di vittime della polizia varia molto da stato a stato.\n",
    "2. E' necessario tenere conto di questa differenza quando si analizza gli stati in cui potrebbe esistere un fenomeno razzista.\n",
    "3. In alcuni stati la quota di vittime nere è sensibilmente più alta rispetto alla loro quota nella popolazione, in altri è molto inferiore. In generale la quota di vittime nere è più alta della relativa proporzione nella popolazione.\n",
    "4. La maggior parte delle vittime è uccisa attraverso colpi di arma da fuoco e non stava scappando al momento della morte.\n",
    "5. Molte vittime stavano aggredendo gli ufficiali al momento della morte.\n",
    "6. Il numero di uomini uccisi è sensibilmente maggiore rispetto a quello delle donne, ma non sembrano esserci differenze tra i sessi rispetto alla distribuzione per età.\n",
    "7. In paesi con una basso reddito mediano e un alto poverty rate, il tasso di uccisione è maggiore."
   ]
  }
 ],
 "metadata": {
  "interpreter": {
   "hash": "71ea6ee63c5c5b3065f91a9df4d95af0df05b298596bde0128403e528b13ffe6"
  },
  "kernelspec": {
   "display_name": "Python 3 (ipykernel)",
   "language": "python",
   "name": "python3"
  },
  "language_info": {
   "codemirror_mode": {
    "name": "ipython",
    "version": 3
   },
   "file_extension": ".py",
   "mimetype": "text/x-python",
   "name": "python",
   "nbconvert_exporter": "python",
   "pygments_lexer": "ipython3",
   "version": "3.8.8"
  },
  "toc": {
   "base_numbering": 1,
   "nav_menu": {},
   "number_sections": true,
   "sideBar": true,
   "skip_h1_title": false,
   "title_cell": "Table of Contents",
   "title_sidebar": "Contents",
   "toc_cell": true,
   "toc_position": {
    "height": "calc(100% - 180px)",
    "left": "10px",
    "top": "150px",
    "width": "165px"
   },
   "toc_section_display": true,
   "toc_window_display": true
  }
 },
 "nbformat": 4,
 "nbformat_minor": 4
}
